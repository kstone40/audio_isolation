{
 "cells": [
  {
   "cell_type": "code",
   "execution_count": 1,
   "id": "f5ce0a48-d2bc-43b3-b295-8e5dc07445b2",
   "metadata": {
    "tags": []
   },
   "outputs": [],
   "source": [
    "import torch\n",
    "import torch.nn as nn\n",
    "import nussl\n",
    "from nussl.datasets import transforms as nussl_tfm\n",
    "from nussl.ml.networks.modules import BatchNorm, RecurrentStack, Embedding, STFT, LearnedFilterBank, AmplitudeToDB\n",
    "from models.MaskInference import MaskInference\n",
    "from models.UNet import UNetSpect\n",
    "from models.Filterbank import Filterbank\n",
    "from utils import utils, data\n",
    "from pathlib import Path\n",
    "import yaml, argparse\n",
    "import numpy as np\n",
    "import matplotlib.pyplot as plt"
   ]
  },
  {
   "cell_type": "code",
   "execution_count": 2,
   "id": "f055185a-29b9-4312-9cfc-8e4623577280",
   "metadata": {
    "tags": []
   },
   "outputs": [],
   "source": [
    "#Load yaml configs into configs dictionary\n",
    "with open('config/test_auto.yml','r') as f:\n",
    "    configs = yaml.safe_load(f)\n",
    "    f.close()"
   ]
  },
  {
   "cell_type": "code",
   "execution_count": 3,
   "id": "91672bed-5bcb-45fc-9fb6-bcb57181bb24",
   "metadata": {
    "tags": []
   },
   "outputs": [],
   "source": [
    "utils.logger()\n",
    "device = 'cuda' if torch.cuda.is_available() else 'cpu'\n",
    "\n",
    "stft_params = nussl.STFTParams(**configs['stft_params'])\n",
    "\n",
    "#############CHANGE FOR WAVEFORM##################\n",
    "tfm = nussl_tfm.Compose([\n",
    "    nussl_tfm.SumSources([['bass', 'drums', 'other']]),\n",
    "    nussl_tfm.MagnitudeSpectrumApproximation(),\n",
    "    nussl_tfm.IndexSources('source_magnitudes', 1),\n",
    "    nussl_tfm.ToSeparationModel(),\n",
    "])\n",
    "\n",
    "if configs['model_type'] == 'Filterbank':\n",
    "    stft_params=None\n",
    "\n",
    "#############CHANGE FOR WAVEFORM##################\n",
    "train_data = data.on_the_fly(stft_params, transform=tfm, fg_path=configs['test_folder'], **configs['train_generator_params'])\n",
    "train_dataloader = torch.utils.data.DataLoader(train_data, num_workers=1, batch_size=configs['batch_size'])\n",
    "\n",
    "val_data = data.on_the_fly(stft_params, transform=tfm, fg_path=configs['valid_folder'], **configs['valid_generator_params'])\n",
    "val_dataloader = torch.utils.data.DataLoader(val_data, num_workers=1, batch_size=configs['batch_size'])"
   ]
  },
  {
   "cell_type": "code",
   "execution_count": 4,
   "id": "cf7ed141-fe82-4203-8305-7bae408489aa",
   "metadata": {
    "tags": []
   },
   "outputs": [],
   "source": [
    "loss_type = configs['loss_type']\n",
    "loss_dict = {'L1': nussl.ml.train.loss.L1Loss,\n",
    "             'L2': nussl.ml.train.loss.MSELoss,\n",
    "             'MSE': nussl.ml.train.loss.MSELoss,}\n",
    "assert loss_type in loss_dict.keys(), f'Loss type must be one of {loss_dict.keys()}'\n",
    "loss_fn = loss_dict[loss_type]()"
   ]
  },
  {
   "cell_type": "code",
   "execution_count": 5,
   "id": "1d70d715-2560-42bb-8aaa-6d094fa45c2a",
   "metadata": {
    "tags": []
   },
   "outputs": [],
   "source": [
    "def train_step(engine, batch):\n",
    "    optimizer.zero_grad()\n",
    "    \n",
    "    #Forward pass\n",
    "    output = model(batch)\n",
    "    loss = loss_fn(output['estimates'],batch['source_magnitudes'])\n",
    "    \n",
    "    #Backward pass\n",
    "    loss.backward()\n",
    "    optimizer.step()\n",
    "    \n",
    "    loss_vals = {'loss':loss.item()}\n",
    "    \n",
    "    return loss_vals\n",
    "\n",
    "def val_step(engine, batch):\n",
    "    with torch.no_grad():\n",
    "        output = model(batch)\n",
    "    loss = loss_fn(output['estimates'],batch['source_magnitudes'])  \n",
    "    loss_vals = {'loss':loss.item()}\n",
    "    return loss_vals"
   ]
  },
  {
   "cell_type": "code",
   "execution_count": 6,
   "id": "c19bbbe9-c4e4-4e5e-96cb-eaabf59899af",
   "metadata": {
    "tags": []
   },
   "outputs": [],
   "source": [
    "model_type = configs['model_type']\n",
    "model_dict = {'Mask': MaskInference,\n",
    "              'UNet': UNetSpect,\n",
    "              'Filterbank':Filterbank\n",
    "             }\n",
    "assert model_type in model_dict.keys(), f'Model type must be one of {model_dict.keys()}'\n",
    "#Set up the model and optimizer\n",
    "if model_type=='Mask':\n",
    "    model = MaskInference.build(stft_params.window_length//2+1, **configs['model_params']).to(device)\n",
    "elif model_type=='UNet':\n",
    "    model = UNetSpect.build(**configs['model_params']).to(device)\n",
    "elif model_type=='Filterbank':\n",
    "    model = Filterbank.build(128, **configs['model_params']).to(device)\n",
    "    \n",
    "optimizer = torch.optim.Adam(model.parameters(), **configs['optimizer_params'])"
   ]
  },
  {
   "cell_type": "code",
   "execution_count": 7,
   "id": "bfb7202b-7c57-406c-bece-15a65fb62e75",
   "metadata": {
    "tags": []
   },
   "outputs": [
    {
     "name": "stderr",
     "output_type": "stream",
     "text": [
      "/SFS/user/ry/stonekev/miniconda3/envs/audio/lib/python3.10/site-packages/ignite/contrib/handlers/tqdm_logger.py:127: TqdmWarning: IProgress not found. Please update jupyter and ipywidgets. See https://ipywidgets.readthedocs.io/en/stable/user_install.html\n",
      "  from tqdm.autonotebook import tqdm\n"
     ]
    }
   ],
   "source": [
    "# Create nussl ML engine\n",
    "trainer, validator = nussl.ml.train.create_train_and_validation_engines(train_step, val_step, device=device)\n",
    "\n",
    "# Save model outputs\n",
    "checkpoint_folder = Path('models/'+configs['save_name']).absolute()\n",
    "\n",
    "# Adding handlers from nussl that print out details about model training\n",
    "# run the validation step, and save the models.\n",
    "nussl.ml.train.add_stdout_handler(trainer, validator)\n",
    "nussl.ml.train.add_validate_and_checkpoint(checkpoint_folder, model, optimizer, train_data, trainer, val_dataloader, validator)\n",
    "nussl.ml.train.add_progress_bar_handler(trainer, validator)"
   ]
  },
  {
   "cell_type": "code",
   "execution_count": 11,
   "id": "323207c6-1414-49a9-a6da-b81998885f73",
   "metadata": {
    "tags": []
   },
   "outputs": [],
   "source": [
    "# trainer.run(train_dataloader, **configs['train_params'])"
   ]
  },
  {
   "cell_type": "code",
   "execution_count": 12,
   "id": "be8d2ed1-b9c7-43ed-9b6d-844cf7d8a5c0",
   "metadata": {
    "tags": []
   },
   "outputs": [],
   "source": [
    "for batch in train_dataloader:\n",
    "    batch=batch\n",
    "    break\n",
    "    \n",
    "for key in batch:\n",
    "    if torch.is_tensor(batch[key]):\n",
    "        batch[key] = batch[key].float().to(device)   "
   ]
  },
  {
   "cell_type": "code",
   "execution_count": 15,
   "id": "06e2db25-923d-4f93-ae2a-833858db2bf9",
   "metadata": {
    "tags": []
   },
   "outputs": [
    {
     "data": {
      "text/plain": [
       "torch.Size([10, 1724, 257, 1, 1])"
      ]
     },
     "execution_count": 15,
     "metadata": {},
     "output_type": "execute_result"
    }
   ],
   "source": [
    "batch['source_magnitudes'].shape"
   ]
  },
  {
   "cell_type": "code",
   "execution_count": null,
   "id": "335f0169-3759-49d3-a726-80a4eb882b8f",
   "metadata": {},
   "outputs": [],
   "source": []
  }
 ],
 "metadata": {
  "kernelspec": {
   "display_name": "Python 3 (ipykernel)",
   "language": "python",
   "name": "python3"
  },
  "language_info": {
   "codemirror_mode": {
    "name": "ipython",
    "version": 3
   },
   "file_extension": ".py",
   "mimetype": "text/x-python",
   "name": "python",
   "nbconvert_exporter": "python",
   "pygments_lexer": "ipython3",
   "version": "3.10.10"
  }
 },
 "nbformat": 4,
 "nbformat_minor": 5
}
