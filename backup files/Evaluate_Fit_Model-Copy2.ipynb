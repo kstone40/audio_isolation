{
 "cells": [
  {
   "cell_type": "code",
   "execution_count": 1,
   "id": "07f3aefa-3622-45f3-a5cc-c9d5808d2c80",
   "metadata": {
    "tags": []
   },
   "outputs": [],
   "source": [
    "import torch\n",
    "import matplotlib.pyplot as plt\n",
    "import numpy as np\n",
    "import pandas as pd\n",
    "import nussl\n",
    "from utils import viz, data\n",
    "import yaml\n",
    "import os"
   ]
  },
  {
   "cell_type": "code",
   "execution_count": 2,
   "id": "ff9556d6-dc16-4935-979e-1e49db1a1781",
   "metadata": {
    "tags": []
   },
   "outputs": [],
   "source": [
    "import json\n",
    "from nussl.datasets import transforms as nussl_tfm\n",
    "from pathlib import Path"
   ]
  },
  {
   "cell_type": "code",
   "execution_count": 3,
   "id": "f59314f9-8288-4927-a9ce-722b5c4ebb33",
   "metadata": {
    "tags": []
   },
   "outputs": [],
   "source": [
    "from models.MaskInference import MaskInference\n",
    "from models.UNet import UNetSpect\n",
    "from models.Filterbank import Filterbank\n",
    "from models.Waveform import Waveform\n",
    "\n",
    "nussl.ml.register_module(MaskInference)\n",
    "nussl.ml.register_module(UNetSpect)\n",
    "nussl.ml.register_module(Filterbank)\n",
    "nussl.ml.register_module(Waveform)"
   ]
  },
  {
   "cell_type": "code",
   "execution_count": 4,
   "id": "b7ba6bb6-30b3-4c2a-b5b0-faf9c8316501",
   "metadata": {
    "tags": []
   },
   "outputs": [
    {
     "data": {
      "text/plain": [
       "['.ipynb_checkpoints',\n",
       " 'WaveUNet.py',\n",
       " '__pycache__',\n",
       " 'MaskInference.py',\n",
       " 'filterbank_default',\n",
       " 'Waveform.py',\n",
       " 'UNet.py',\n",
       " 'Filterbank.py',\n",
       " 'overfit',\n",
       " 'mask_default',\n",
       " 'Clustering.py',\n",
       " 'VocalSepOnly']"
      ]
     },
     "execution_count": 4,
     "metadata": {},
     "output_type": "execute_result"
    }
   ],
   "source": [
    "os.listdir('models/')"
   ]
  },
  {
   "cell_type": "code",
   "execution_count": 5,
   "id": "a0dcde2d-6e42-4c0b-9e9d-0da62a1a9c0a",
   "metadata": {
    "tags": []
   },
   "outputs": [],
   "source": [
    "model_name = 'overfit'\n",
    "#model_name = 'filterbank_default'\n",
    "#model_name = 'mask_default'"
   ]
  },
  {
   "cell_type": "code",
   "execution_count": 6,
   "id": "008a4188-733e-4984-b253-25efdd559652",
   "metadata": {
    "tags": []
   },
   "outputs": [],
   "source": [
    "model_path = 'models/'+model_name+'/checkpoints/latest.model.pth'\n",
    "config_path = 'models/'+model_name+'/configs.yml'\n",
    "config_path = 'config/unet_default.yml'\n",
    "#Optimizer checkpoints no longer stored\n",
    "#optimizer_path = 'models/'+model_name+'/checkpoints/latest.optimizer.pth'"
   ]
  },
  {
   "cell_type": "code",
   "execution_count": 7,
   "id": "f86a8dcf-0c98-4357-98bb-4fbafb62ace8",
   "metadata": {
    "tags": []
   },
   "outputs": [],
   "source": [
    "#Load yaml configs into configs dictionary\n",
    "with open(config_path,'r') as f:\n",
    "    configs = yaml.safe_load(f)\n",
    "    f.close()\n",
    "\n",
    "model_type = configs['model_type']\n",
    "waveform_models = ['Filterbank','Waveform','WaveUNet']\n",
    "if model_type in waveform_models:\n",
    "    stft_params = None\n",
    "    \n",
    "    tfm = nussl_tfm.Compose([\n",
    "        #nussl_tfm.SumSources([['bass', 'drums', 'other']]),\n",
    "        nussl_tfm.GetAudio(),\n",
    "        #nussl_tfm.IndexSources('source_audio', 1),\n",
    "        nussl_tfm.ToSeparationModel(),\n",
    "    ])\n",
    "    \n",
    "    # separator = nussl.separation.deep.DeepAudioEstimation(\n",
    "    #     nussl.AudioSignal(), model_path=model_path,\n",
    "    #     device='cpu',\n",
    "    # )\n",
    "    \n",
    "    target_key = 'source_audio'\n",
    "    output_key = 'audio'\n",
    "    \n",
    "else:\n",
    "    stft_params = nussl.STFTParams(**configs['stft_params'])\n",
    "    \n",
    "    tfm = nussl_tfm.Compose([\n",
    "        #nussl_tfm.SumSources([['bass', 'drums', 'other']]),\n",
    "        nussl_tfm.MagnitudeSpectrumApproximation(),\n",
    "        #nussl_tfm.IndexSources('source_magnitudes', 1),\n",
    "        nussl_tfm.ToSeparationModel(),\n",
    "    ])\n",
    "    \n",
    "    # separator = nussl.separation.deep.DeepMaskEstimation(\n",
    "    #     nussl.AudioSignal(), model_path=model_path,\n",
    "    #     device='cpu',\n",
    "    # )\n",
    "    \n",
    "    target_key = 'source_magnitudes'\n",
    "    output_key = 'estimates'"
   ]
  },
  {
   "cell_type": "code",
   "execution_count": 8,
   "id": "fddab108-fa49-43bc-9782-e682fd203d2a",
   "metadata": {
    "tags": []
   },
   "outputs": [],
   "source": [
    "model_checkpoint = torch.load(model_path,map_location=torch.device('cpu'))\n",
    "#Optimizer checkpoints no longer stored\n",
    "#optimizer_checkpoint = torch.load(optimizer_path,map_location=torch.device('cpu'))"
   ]
  },
  {
   "cell_type": "code",
   "execution_count": 9,
   "id": "a1a268f2-1e5d-4ac8-91c7-8215973e737d",
   "metadata": {
    "tags": []
   },
   "outputs": [
    {
     "data": {
      "text/plain": [
       "{'epoch': 1,\n",
       " 'epoch_length': 2,\n",
       " 'max_epochs': 1,\n",
       " 'output': {'loss': 0.0001715429243631661},\n",
       " 'metrics': {'avg_loss': 0.0002876586065394804},\n",
       " 'seed': None}"
      ]
     },
     "execution_count": 9,
     "metadata": {},
     "output_type": "execute_result"
    }
   ],
   "source": [
    "model_checkpoint['metadata']['trainer.state_dict']"
   ]
  },
  {
   "cell_type": "code",
   "execution_count": 10,
   "id": "5db054fa-b925-42da-a506-93764aab3ee9",
   "metadata": {
    "tags": []
   },
   "outputs": [],
   "source": [
    "val_loss = model_checkpoint['metadata']['trainer.state.epoch_history']['validation/loss']\n",
    "train_loss = model_checkpoint['metadata']['trainer.state.epoch_history']['train/loss']\n",
    "n_epochs = model_checkpoint['metadata']['trainer.state_dict']['epoch']"
   ]
  },
  {
   "cell_type": "code",
   "execution_count": 11,
   "id": "ffed1b32-7ad1-4dda-8ed9-8ca2e0536699",
   "metadata": {
    "tags": []
   },
   "outputs": [
    {
     "data": {
      "text/plain": [
       "<matplotlib.legend.Legend at 0x7f6efab5d750>"
      ]
     },
     "execution_count": 11,
     "metadata": {},
     "output_type": "execute_result"
    },
    {
     "data": {
      "image/png": "[encoded data removed]",
      "text/plain": [
       "<Figure size 400x300 with 1 Axes>"
      ]
     },
     "metadata": {},
     "output_type": "display_data"
    }
   ],
   "source": [
    "x = np.arange(n_epochs)\n",
    "plt.figure(figsize=(4,3))\n",
    "plt.plot(x,val_loss,label='Validation')\n",
    "plt.plot(x,train_loss,label='Training')\n",
    "plt.ylabel('Loss')\n",
    "plt.xlabel('Epoch')\n",
    "plt.legend()"
   ]
  },
  {
   "cell_type": "code",
   "execution_count": 12,
   "id": "15b16de2-245d-41db-9cfd-1448733397bd",
   "metadata": {
    "tags": []
   },
   "outputs": [
    {
     "data": {
      "text/plain": [
       "<matplotlib.legend.Legend at 0x7f6ef9a53580>"
      ]
     },
     "execution_count": 12,
     "metadata": {},
     "output_type": "execute_result"
    },
    {
     "data": {
      "image/png": "[encoded data removed]",
      "text/plain": [
       "<Figure size 400x300 with 1 Axes>"
      ]
     },
     "metadata": {},
     "output_type": "display_data"
    }
   ],
   "source": [
    "x = np.arange(n_epochs)\n",
    "plt.figure(figsize=(4,3))\n",
    "plt.plot(x,np.log10(val_loss),label='Validation')\n",
    "plt.plot(x,np.log10(train_loss),label='Training')\n",
    "plt.ylabel('Log10 Loss')\n",
    "plt.xlabel('Epoch')\n",
    "plt.legend()"
   ]
  },
  {
   "cell_type": "code",
   "execution_count": 13,
   "id": "82545c6d-4148-4414-b7a4-61f5fe102d83",
   "metadata": {
    "tags": []
   },
   "outputs": [],
   "source": [
    "from utils import data\n",
    "#Test on the data\n",
    "test_folder = configs['test_folder']\n",
    "test_data = data.mixer(stft_params, transform=tfm, fg_path=configs['test_folder'], num_mixtures=50, coherent_prob=1.0, duration=5)\n",
    "test_dataloader = torch.utils.data.DataLoader(test_data, num_workers=1, batch_size=1)"
   ]
  },
  {
   "cell_type": "code",
   "execution_count": 14,
   "id": "ba78c836-f54c-458e-a4bd-ddcdafc3e136",
   "metadata": {
    "tags": []
   },
   "outputs": [],
   "source": [
    "for i,batch in enumerate(test_dataloader):\n",
    "    if i==1:\n",
    "        batch=batch\n",
    "        break\n",
    "    \n",
    "for key in batch:\n",
    "    if torch.is_tensor(batch[key]):\n",
    "        batch[key] = batch[key].float().to('cpu')   "
   ]
  },
  {
   "cell_type": "code",
   "execution_count": null,
   "id": "2846c66f-a265-4a6a-b4a2-cb41063e5f93",
   "metadata": {
    "tags": []
   },
   "outputs": [],
   "source": [
    "# self = separator.model.layers.model\n",
    "# data = batch['mix_magnitude']\n",
    "# output = separator.model(batch)"
   ]
  },
  {
   "cell_type": "code",
   "execution_count": 15,
   "id": "a4925b7d-f823-4f70-8fad-db4bbb5f453d",
   "metadata": {
    "tags": []
   },
   "outputs": [],
   "source": [
    "model = UNetSpect.build(num_sources=4, num_audio_channels=1, init_features=16, activation = 'sigmoid', logscale=True)"
   ]
  },
  {
   "cell_type": "code",
   "execution_count": 16,
   "id": "333e9740-222b-4ce3-8dc8-2b6b9a8ec174",
   "metadata": {
    "tags": []
   },
   "outputs": [],
   "source": [
    "self = model.layers.model"
   ]
  },
  {
   "cell_type": "code",
   "execution_count": 18,
   "id": "3b21c1a6-3013-43d8-b3e3-ceb7e848369f",
   "metadata": {
    "tags": []
   },
   "outputs": [],
   "source": [
    "num_sources=4"
   ]
  },
  {
   "cell_type": "code",
   "execution_count": 51,
   "id": "482f0bc8-cbd7-4e9c-872c-394c1cf36d1f",
   "metadata": {
    "tags": []
   },
   "outputs": [],
   "source": [
    "data = batch['mix_magnitude']\n",
    "\n",
    "mix_magnitude = data\n",
    "\n",
    "#Scale spectrograms to dB range (logscale)\n",
    "#if self.logscale:\n",
    "#    data = self.amplitude_to_db(data)\n",
    "\n",
    "data = data.transpose(3, 1).transpose(2, 3)\n",
    "data = data.tile(1,num_sources,1,1)\n",
    "\n",
    "#Encoding convolutions down\n",
    "down_conv1 = self.down_conv1(data)\n",
    "down_conv1_max = self.max_pool(down_conv1)\n",
    "down_conv2 = self.down_conv2(down_conv1_max)\n",
    "down_conv2_max = self.max_pool(down_conv2)\n",
    "down_conv3 = self.down_conv3(down_conv2_max)\n",
    "down_conv3_max = self.max_pool(down_conv3)\n",
    "down_conv4 = self.down_conv4(down_conv3_max)\n",
    "down_conv4_max = self.max_pool(down_conv4)\n",
    "down_conv5 = self.down_conv5(down_conv4_max)\n",
    "\n",
    "#Decoding convolutions up\n",
    "trans1 = self.transpose1(down_conv5)\n",
    "up_conv1 = self.up_conv1(torch.cat([down_conv4, trans1], 1))\n",
    "trans2 = self.transpose2(up_conv1)\n",
    "up_conv2 = self.up_conv2(torch.cat([down_conv3, trans2], 1))\n",
    "trans3 = self.transpose3(up_conv2)\n",
    "up_conv3 = self.up_conv3(torch.cat([down_conv2, trans3], 1))\n",
    "trans4 = self.transpose4(up_conv3)\n",
    "up_conv4 = self.up_conv4(torch.cat([down_conv1, trans4], 1))\n",
    "\n",
    "##Final convolution to calculate mask\n",
    "out = self.out(up_conv4).transpose(3, 2).transpose(1, 3)\n",
    "\n",
    "out = out.unsqueeze(-2)\n",
    "out = out.tile(1,1,1,num_audio_channels,1)"
   ]
  },
  {
   "cell_type": "code",
   "execution_count": 50,
   "id": "f7107ff4-4a7a-4ed1-a215-08e3152ebda2",
   "metadata": {
    "tags": []
   },
   "outputs": [],
   "source": [
    "num_audio_channels=1"
   ]
  },
  {
   "cell_type": "code",
   "execution_count": 52,
   "id": "9c469104-938c-4403-906d-16f7d8622368",
   "metadata": {
    "tags": []
   },
   "outputs": [
    {
     "data": {
      "text/plain": [
       "torch.Size([1, 432, 1024, 1, 4])"
      ]
     },
     "execution_count": 52,
     "metadata": {},
     "output_type": "execute_result"
    }
   ],
   "source": [
    "out.shape"
   ]
  },
  {
   "cell_type": "code",
   "execution_count": 56,
   "id": "1620ae3a-28f0-463a-94cb-e54014ed9222",
   "metadata": {
    "tags": []
   },
   "outputs": [
    {
     "data": {
      "text/plain": [
       "torch.Size([1, 432, 1024, 1, 4])"
      ]
     },
     "execution_count": 56,
     "metadata": {},
     "output_type": "execute_result"
    }
   ],
   "source": [
    "(mix_magnitude.unsqueeze(-1)*out).shape"
   ]
  },
  {
   "cell_type": "code",
   "execution_count": null,
   "id": "15335160-1307-4d61-96ff-115d14e794f5",
   "metadata": {},
   "outputs": [],
   "source": [
    "from nussl.ml.networks.modules import Embedding"
   ]
  },
  {
   "cell_type": "code",
   "execution_count": 44,
   "id": "3fa203a7-9569-4d3c-adc7-4534c5205ea0",
   "metadata": {
    "tags": []
   },
   "outputs": [],
   "source": [
    "test_embedding = Embedding(1024, 1024, 1,'sigmoid', 1)"
   ]
  },
  {
   "cell_type": "code",
   "execution_count": 45,
   "id": "8b8a82f1-653f-494d-9138-4f54b0bb14ac",
   "metadata": {
    "tags": []
   },
   "outputs": [
    {
     "ename": "RuntimeError",
     "evalue": "mat1 and mat2 shapes cannot be multiplied (442368x4 and 1024x1024)",
     "output_type": "error",
     "traceback": [
      "\u001b[0;31m---------------------------------------------------------------------------\u001b[0m",
      "\u001b[0;31mRuntimeError\u001b[0m                              Traceback (most recent call last)",
      "Cell \u001b[0;32mIn[45], line 1\u001b[0m\n\u001b[0;32m----> 1\u001b[0m mask \u001b[38;5;241m=\u001b[39m \u001b[43mtest_embedding\u001b[49m\u001b[43m(\u001b[49m\u001b[43mout\u001b[49m\u001b[43m)\u001b[49m\n",
      "File \u001b[0;32m~/miniconda3/envs/audio/lib/python3.10/site-packages/torch/nn/modules/module.py:1501\u001b[0m, in \u001b[0;36mModule._call_impl\u001b[0;34m(self, *args, **kwargs)\u001b[0m\n\u001b[1;32m   1496\u001b[0m \u001b[38;5;66;03m# If we don't have any hooks, we want to skip the rest of the logic in\u001b[39;00m\n\u001b[1;32m   1497\u001b[0m \u001b[38;5;66;03m# this function, and just call forward.\u001b[39;00m\n\u001b[1;32m   1498\u001b[0m \u001b[38;5;28;01mif\u001b[39;00m \u001b[38;5;129;01mnot\u001b[39;00m (\u001b[38;5;28mself\u001b[39m\u001b[38;5;241m.\u001b[39m_backward_hooks \u001b[38;5;129;01mor\u001b[39;00m \u001b[38;5;28mself\u001b[39m\u001b[38;5;241m.\u001b[39m_backward_pre_hooks \u001b[38;5;129;01mor\u001b[39;00m \u001b[38;5;28mself\u001b[39m\u001b[38;5;241m.\u001b[39m_forward_hooks \u001b[38;5;129;01mor\u001b[39;00m \u001b[38;5;28mself\u001b[39m\u001b[38;5;241m.\u001b[39m_forward_pre_hooks\n\u001b[1;32m   1499\u001b[0m         \u001b[38;5;129;01mor\u001b[39;00m _global_backward_pre_hooks \u001b[38;5;129;01mor\u001b[39;00m _global_backward_hooks\n\u001b[1;32m   1500\u001b[0m         \u001b[38;5;129;01mor\u001b[39;00m _global_forward_hooks \u001b[38;5;129;01mor\u001b[39;00m _global_forward_pre_hooks):\n\u001b[0;32m-> 1501\u001b[0m     \u001b[38;5;28;01mreturn\u001b[39;00m \u001b[43mforward_call\u001b[49m\u001b[43m(\u001b[49m\u001b[38;5;241;43m*\u001b[39;49m\u001b[43margs\u001b[49m\u001b[43m,\u001b[49m\u001b[43m \u001b[49m\u001b[38;5;241;43m*\u001b[39;49m\u001b[38;5;241;43m*\u001b[39;49m\u001b[43mkwargs\u001b[49m\u001b[43m)\u001b[49m\n\u001b[1;32m   1502\u001b[0m \u001b[38;5;66;03m# Do not call functions when jit is used\u001b[39;00m\n\u001b[1;32m   1503\u001b[0m full_backward_hooks, non_full_backward_hooks \u001b[38;5;241m=\u001b[39m [], []\n",
      "File \u001b[0;32m~/miniconda3/envs/audio/lib/python3.10/site-packages/nussl/ml/networks/modules/blocks.py:412\u001b[0m, in \u001b[0;36mEmbedding.forward\u001b[0;34m(self, data)\u001b[0m\n\u001b[1;32m    409\u001b[0m \u001b[38;5;28;01mif\u001b[39;00m \u001b[38;5;124m'\u001b[39m\u001b[38;5;124mgated_tanh\u001b[39m\u001b[38;5;124m'\u001b[39m \u001b[38;5;129;01min\u001b[39;00m \u001b[38;5;28mself\u001b[39m\u001b[38;5;241m.\u001b[39mactivation:\n\u001b[1;32m    410\u001b[0m     data \u001b[38;5;241m=\u001b[39m \u001b[38;5;28mself\u001b[39m\u001b[38;5;241m.\u001b[39membed_linear(data) \u001b[38;5;241m*\u001b[39m \u001b[38;5;28mself\u001b[39m\u001b[38;5;241m.\u001b[39membed_gate(data)\n\u001b[0;32m--> 412\u001b[0m data \u001b[38;5;241m=\u001b[39m \u001b[38;5;28;43mself\u001b[39;49m\u001b[38;5;241;43m.\u001b[39;49m\u001b[43mlinear\u001b[49m\u001b[43m(\u001b[49m\u001b[43mdata\u001b[49m\u001b[43m)\u001b[49m\n\u001b[1;32m    414\u001b[0m \u001b[38;5;28;01mif\u001b[39;00m \u001b[38;5;28mself\u001b[39m\u001b[38;5;241m.\u001b[39mreshape:\n\u001b[1;32m    415\u001b[0m     shape \u001b[38;5;241m=\u001b[39m shape \u001b[38;5;241m+\u001b[39m (\n\u001b[1;32m    416\u001b[0m         \u001b[38;5;28mself\u001b[39m\u001b[38;5;241m.\u001b[39mnum_features, \u001b[38;5;28mself\u001b[39m\u001b[38;5;241m.\u001b[39mnum_audio_channels, \u001b[38;5;28mself\u001b[39m\u001b[38;5;241m.\u001b[39membedding_size,)\n",
      "File \u001b[0;32m~/miniconda3/envs/audio/lib/python3.10/site-packages/torch/nn/modules/module.py:1501\u001b[0m, in \u001b[0;36mModule._call_impl\u001b[0;34m(self, *args, **kwargs)\u001b[0m\n\u001b[1;32m   1496\u001b[0m \u001b[38;5;66;03m# If we don't have any hooks, we want to skip the rest of the logic in\u001b[39;00m\n\u001b[1;32m   1497\u001b[0m \u001b[38;5;66;03m# this function, and just call forward.\u001b[39;00m\n\u001b[1;32m   1498\u001b[0m \u001b[38;5;28;01mif\u001b[39;00m \u001b[38;5;129;01mnot\u001b[39;00m (\u001b[38;5;28mself\u001b[39m\u001b[38;5;241m.\u001b[39m_backward_hooks \u001b[38;5;129;01mor\u001b[39;00m \u001b[38;5;28mself\u001b[39m\u001b[38;5;241m.\u001b[39m_backward_pre_hooks \u001b[38;5;129;01mor\u001b[39;00m \u001b[38;5;28mself\u001b[39m\u001b[38;5;241m.\u001b[39m_forward_hooks \u001b[38;5;129;01mor\u001b[39;00m \u001b[38;5;28mself\u001b[39m\u001b[38;5;241m.\u001b[39m_forward_pre_hooks\n\u001b[1;32m   1499\u001b[0m         \u001b[38;5;129;01mor\u001b[39;00m _global_backward_pre_hooks \u001b[38;5;129;01mor\u001b[39;00m _global_backward_hooks\n\u001b[1;32m   1500\u001b[0m         \u001b[38;5;129;01mor\u001b[39;00m _global_forward_hooks \u001b[38;5;129;01mor\u001b[39;00m _global_forward_pre_hooks):\n\u001b[0;32m-> 1501\u001b[0m     \u001b[38;5;28;01mreturn\u001b[39;00m \u001b[43mforward_call\u001b[49m\u001b[43m(\u001b[49m\u001b[38;5;241;43m*\u001b[39;49m\u001b[43margs\u001b[49m\u001b[43m,\u001b[49m\u001b[43m \u001b[49m\u001b[38;5;241;43m*\u001b[39;49m\u001b[38;5;241;43m*\u001b[39;49m\u001b[43mkwargs\u001b[49m\u001b[43m)\u001b[49m\n\u001b[1;32m   1502\u001b[0m \u001b[38;5;66;03m# Do not call functions when jit is used\u001b[39;00m\n\u001b[1;32m   1503\u001b[0m full_backward_hooks, non_full_backward_hooks \u001b[38;5;241m=\u001b[39m [], []\n",
      "File \u001b[0;32m~/miniconda3/envs/audio/lib/python3.10/site-packages/torch/nn/modules/linear.py:114\u001b[0m, in \u001b[0;36mLinear.forward\u001b[0;34m(self, input)\u001b[0m\n\u001b[1;32m    113\u001b[0m \u001b[38;5;28;01mdef\u001b[39;00m \u001b[38;5;21mforward\u001b[39m(\u001b[38;5;28mself\u001b[39m, \u001b[38;5;28minput\u001b[39m: Tensor) \u001b[38;5;241m-\u001b[39m\u001b[38;5;241m>\u001b[39m Tensor:\n\u001b[0;32m--> 114\u001b[0m     \u001b[38;5;28;01mreturn\u001b[39;00m \u001b[43mF\u001b[49m\u001b[38;5;241;43m.\u001b[39;49m\u001b[43mlinear\u001b[49m\u001b[43m(\u001b[49m\u001b[38;5;28;43minput\u001b[39;49m\u001b[43m,\u001b[49m\u001b[43m \u001b[49m\u001b[38;5;28;43mself\u001b[39;49m\u001b[38;5;241;43m.\u001b[39;49m\u001b[43mweight\u001b[49m\u001b[43m,\u001b[49m\u001b[43m \u001b[49m\u001b[38;5;28;43mself\u001b[39;49m\u001b[38;5;241;43m.\u001b[39;49m\u001b[43mbias\u001b[49m\u001b[43m)\u001b[49m\n",
      "\u001b[0;31mRuntimeError\u001b[0m: mat1 and mat2 shapes cannot be multiplied (442368x4 and 1024x1024)"
     ]
    }
   ],
   "source": [
    "mask = test_embedding(out)"
   ]
  },
  {
   "cell_type": "code",
   "execution_count": 37,
   "id": "ddff7dea-07b5-46e5-af9c-921647a7d103",
   "metadata": {
    "tags": []
   },
   "outputs": [
    {
     "data": {
      "text/plain": [
       "27.0"
      ]
     },
     "execution_count": 37,
     "metadata": {},
     "output_type": "execute_result"
    }
   ],
   "source": [
    "442368/4096"
   ]
  },
  {
   "cell_type": "code",
   "execution_count": 35,
   "id": "ed756987-84f4-4735-96e5-66f8af11431c",
   "metadata": {
    "tags": []
   },
   "outputs": [
    {
     "data": {
      "text/plain": [
       "16777216"
      ]
     },
     "execution_count": 35,
     "metadata": {},
     "output_type": "execute_result"
    }
   ],
   "source": [
    "4096*4096"
   ]
  },
  {
   "cell_type": "code",
   "execution_count": null,
   "id": "382dd662-82d1-40de-ab74-216830728beb",
   "metadata": {
    "tags": []
   },
   "outputs": [],
   "source": [
    "self = separator.model.layers.model\n",
    "data = batch['mix_magnitude']\n",
    "output = separator.model(batch)\n",
    "num_sources=4\n",
    "\n",
    "mix_magnitude = data\n",
    "\n",
    "#Scale spectrograms to dB range (logscale)\n",
    "#if self.logscale:\n",
    "#    data = self.amplitude_to_db(data)\n",
    "\n",
    "data = data.transpose(3, 1).transpose(2, 3)\n",
    "data = data.unsqueeze(0).tile(num_sources,1,1,1,1)"
   ]
  },
  {
   "cell_type": "code",
   "execution_count": null,
   "id": "a6a6f1b2-6c8b-40bf-bfab-e011d1d27729",
   "metadata": {
    "tags": []
   },
   "outputs": [],
   "source": [
    "data.shape"
   ]
  },
  {
   "cell_type": "code",
   "execution_count": null,
   "id": "398d3045-7d0d-4b08-bd6a-979a40abfed1",
   "metadata": {
    "tags": []
   },
   "outputs": [],
   "source": [
    "tiled_data.shape"
   ]
  },
  {
   "cell_type": "code",
   "execution_count": null,
   "id": "ea4a3c27-1821-404f-889d-6e85ee7d6d73",
   "metadata": {
    "tags": []
   },
   "outputs": [],
   "source": [
    "import torch.nn as nn\n",
    "final_conv = nn.Conv2d(self.features, 4, kernel_size=1)"
   ]
  },
  {
   "cell_type": "code",
   "execution_count": null,
   "id": "374445b9-e8c5-42e5-8183-4a9e34d5d03b",
   "metadata": {
    "tags": []
   },
   "outputs": [],
   "source": [
    "out = final_conv(up_conv4)"
   ]
  },
  {
   "cell_type": "code",
   "execution_count": null,
   "id": "b42322b0-7db2-4d6e-859f-10df311072f2",
   "metadata": {
    "tags": []
   },
   "outputs": [],
   "source": [
    "out.shape"
   ]
  },
  {
   "cell_type": "code",
   "execution_count": null,
   "id": "f9697451-b951-4b2a-aba7-ed768e5bdafe",
   "metadata": {
    "tags": []
   },
   "outputs": [],
   "source": [
    "#Final deconvolution\n",
    "out = self.out(up_conv4).transpose(3, 2).transpose(1, 3).squeeze(-1)"
   ]
  },
  {
   "cell_type": "code",
   "execution_count": null,
   "id": "702c5dbb-eb00-46dc-9bb8-d29243eeddec",
   "metadata": {
    "tags": []
   },
   "outputs": [],
   "source": [
    "out = output[output_key].detach().numpy()\n",
    "target = batch[target_key].detach().numpy()"
   ]
  },
  {
   "cell_type": "code",
   "execution_count": null,
   "id": "25c50778-0c30-4a44-84c2-a4bd5af0dcb7",
   "metadata": {
    "tags": []
   },
   "outputs": [],
   "source": [
    "out.squeeze().T.shape"
   ]
  },
  {
   "cell_type": "code",
   "execution_count": null,
   "id": "a0bdf739-7d3e-47b6-9d5b-db09ab89c06b",
   "metadata": {
    "tags": []
   },
   "outputs": [],
   "source": [
    "target.squeeze().T"
   ]
  },
  {
   "cell_type": "code",
   "execution_count": null,
   "id": "1d280041-f7e4-43d3-8f03-ad857e9be9e4",
   "metadata": {
    "tags": []
   },
   "outputs": [],
   "source": [
    "if model_type in waveform_models:\n",
    "    fig, axs = plt.subplots(2,2,figsize=(9,3))\n",
    "    axs[0,0].plot(out.squeeze()[0,::100].T)\n",
    "    axs[0,1].plot(out.squeeze()[1,::100].T)\n",
    "    axs[1,0].plot(out.squeeze()[2,::100].T)\n",
    "    axs[1,1].plot(out.squeeze()[3,::100].T)\n",
    "else:\n",
    "    fig, axs = plt.subplots(2,2,figsize=(9,3))\n",
    "    axs[0,0].imshow(np.log(out.squeeze().T[0]+1e-16).T)\n",
    "    axs[0,1].imshow(np.log(out.squeeze().T[1]+1e-16).T)\n",
    "    axs[1,0].imshow(np.log(out.squeeze().T[2]+1e-16).T)\n",
    "    axs[1,1].imshow(np.log(out.squeeze().T[3]+1e-16).T)"
   ]
  },
  {
   "cell_type": "code",
   "execution_count": null,
   "id": "a884e9b6-6688-4883-bc79-06e76f1fab35",
   "metadata": {
    "tags": []
   },
   "outputs": [],
   "source": [
    "if model_type in waveform_models:\n",
    "    fig, axs = plt.subplots(2,2,figsize=(9,3))\n",
    "    axs[0,0].plot(target.squeeze()[0,::100].T)\n",
    "    axs[0,1].plot(target.squeeze()[1,::100].T)\n",
    "    axs[1,0].plot(target.squeeze()[2,::100].T)\n",
    "    axs[1,1].plot(target.squeeze()[3,::100].T)\n",
    "else:\n",
    "    fig, axs = plt.subplots(2,2,figsize=(9,3))\n",
    "    axs[0,0].imshow(np.log(target.squeeze().T[0]+1e-16).T)\n",
    "    axs[0,1].imshow(np.log(target.squeeze().T[1]+1e-16).T)\n",
    "    axs[1,0].imshow(np.log(target.squeeze().T[2]+1e-16).T)\n",
    "    axs[1,1].imshow(np.log(target.squeeze().T[3]+1e-16).T)"
   ]
  },
  {
   "cell_type": "code",
   "execution_count": null,
   "id": "48897dcc-4493-416a-a74e-028d7e3a34ac",
   "metadata": {
    "tags": []
   },
   "outputs": [],
   "source": [
    "np.mean((target-out)**2)\n",
    "\n",
    "loss_fn = torch.nn.MSELoss()\n",
    "loss_fn(torch.tensor(target),torch.tensor(out))\n",
    "\n",
    "loss_fn = torch.nn.L1Loss()\n",
    "loss_fn(torch.tensor(target),torch.tensor(out))"
   ]
  },
  {
   "cell_type": "code",
   "execution_count": null,
   "id": "5b099e77-ef31-4e94-a193-7600eea78368",
   "metadata": {
    "tags": []
   },
   "outputs": [],
   "source": [
    "from utils import data\n",
    "\n",
    "#Test on the data\n",
    "test_folder = configs['test_folder']\n",
    "test_data = data.mixer(stft_params, transform=None, fg_path=configs['test_folder'], num_mixtures=50, coherent_prob=1.0, duration=5)"
   ]
  },
  {
   "cell_type": "code",
   "execution_count": null,
   "id": "a162732d-25b4-4599-b776-764686082b86",
   "metadata": {
    "tags": []
   },
   "outputs": [],
   "source": [
    "item = test_data[1]\n",
    "separator.audio_signal = item['mix']\n",
    "estimates = separator()\n",
    "viz.show_sources(estimates)"
   ]
  },
  {
   "cell_type": "code",
   "execution_count": null,
   "id": "2a80712e-b7ce-4969-86d4-14f689c46b03",
   "metadata": {},
   "outputs": [],
   "source": []
  }
 ],
 "metadata": {
  "kernelspec": {
   "display_name": "Python 3 (ipykernel)",
   "language": "python",
   "name": "python3"
  },
  "language_info": {
   "codemirror_mode": {
    "name": "ipython",
    "version": 3
   },
   "file_extension": ".py",
   "mimetype": "text/x-python",
   "name": "python",
   "nbconvert_exporter": "python",
   "pygments_lexer": "ipython3",
   "version": "3.10.10"
  }
 },
 "nbformat": 4,
 "nbformat_minor": 5
}
