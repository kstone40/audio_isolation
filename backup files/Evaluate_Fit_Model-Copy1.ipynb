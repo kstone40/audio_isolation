{
 "cells": [
  {
   "cell_type": "code",
   "execution_count": 21,
   "id": "07f3aefa-3622-45f3-a5cc-c9d5808d2c80",
   "metadata": {
    "tags": []
   },
   "outputs": [],
   "source": [
    "import torch\n",
    "import matplotlib.pyplot as plt\n",
    "import numpy as np\n",
    "import pandas as pd\n",
    "import nussl\n",
    "from utils import viz, data\n",
    "import yaml\n",
    "import os"
   ]
  },
  {
   "cell_type": "code",
   "execution_count": 22,
   "id": "ff9556d6-dc16-4935-979e-1e49db1a1781",
   "metadata": {
    "tags": []
   },
   "outputs": [],
   "source": [
    "import json\n",
    "from nussl.datasets import transforms as nussl_tfm\n",
    "from pathlib import Path"
   ]
  },
  {
   "cell_type": "code",
   "execution_count": 23,
   "id": "f59314f9-8288-4927-a9ce-722b5c4ebb33",
   "metadata": {
    "tags": []
   },
   "outputs": [],
   "source": [
    "from models.MaskInference import MaskInference\n",
    "from models.UNet import UNetSpect\n",
    "from models.Filterbank import Filterbank\n",
    "from models.Waveform import Waveform\n",
    "from models.WaveUNet import WaveUNet\n",
    "\n",
    "nussl.ml.register_module(MaskInference)\n",
    "nussl.ml.register_module(UNetSpect)\n",
    "nussl.ml.register_module(Filterbank)\n",
    "nussl.ml.register_module(Waveform)\n",
    "nussl.ml.register_module(WaveUNet)"
   ]
  },
  {
   "cell_type": "code",
   "execution_count": 24,
   "id": "b7ba6bb6-30b3-4c2a-b5b0-faf9c8316501",
   "metadata": {
    "tags": []
   },
   "outputs": [
    {
     "data": {
      "text/plain": [
       "['.ipynb_checkpoints',\n",
       " 'WaveUNet.py',\n",
       " '__pycache__',\n",
       " 'MaskInference.py',\n",
       " 'filterbank_default',\n",
       " 'Waveform.py',\n",
       " 'UNet.py',\n",
       " 'Filterbank.py',\n",
       " 'overfit',\n",
       " 'mask_default',\n",
       " 'Clustering.py',\n",
       " 'VocalSepOnly']"
      ]
     },
     "execution_count": 24,
     "metadata": {},
     "output_type": "execute_result"
    }
   ],
   "source": [
    "os.listdir('models/')"
   ]
  },
  {
   "cell_type": "code",
   "execution_count": 25,
   "id": "a0dcde2d-6e42-4c0b-9e9d-0da62a1a9c0a",
   "metadata": {
    "tags": []
   },
   "outputs": [],
   "source": [
    "model_name = 'overfit'\n",
    "#model_name = 'filterbank_default'\n",
    "model_name = 'mask_default'"
   ]
  },
  {
   "cell_type": "code",
   "execution_count": 26,
   "id": "008a4188-733e-4984-b253-25efdd559652",
   "metadata": {
    "tags": []
   },
   "outputs": [],
   "source": [
    "model_path = 'models/'+model_name+'/checkpoints/latest.model.pth'\n",
    "config_path = 'models/'+model_name+'/configs.yml'\n",
    "#Optimizer checkpoints no longer stored\n",
    "#optimizer_path = 'models/'+model_name+'/checkpoints/latest.optimizer.pth'"
   ]
  },
  {
   "cell_type": "code",
   "execution_count": 27,
   "id": "f86a8dcf-0c98-4357-98bb-4fbafb62ace8",
   "metadata": {
    "tags": []
   },
   "outputs": [
    {
     "name": "stderr",
     "output_type": "stream",
     "text": [
      "/SFS/user/ry/stonekev/miniconda3/envs/audio/lib/python3.10/site-packages/nussl/separation/base/separation_base.py:73: UserWarning: input_audio_signal has no data!\n",
      "  warnings.warn('input_audio_signal has no data!')\n",
      "/SFS/user/ry/stonekev/miniconda3/envs/audio/lib/python3.10/site-packages/nussl/core/audio_signal.py:455: UserWarning: Initializing STFT with data that is non-complex. This might lead to weird results!\n",
      "  warnings.warn('Initializing STFT with data that is non-complex. '\n"
     ]
    }
   ],
   "source": [
    "#Load yaml configs into configs dictionary\n",
    "with open(config_path,'r') as f:\n",
    "    configs = yaml.safe_load(f)\n",
    "    f.close()\n",
    "\n",
    "model_type = configs['model_type']\n",
    "waveform_models = ['Filterbank','Waveform','WaveUNet']\n",
    "if model_type in waveform_models:\n",
    "    stft_params = None\n",
    "    \n",
    "    tfm = nussl_tfm.Compose([\n",
    "        #nussl_tfm.SumSources([['bass', 'drums', 'other']]),\n",
    "        nussl_tfm.GetAudio(),\n",
    "        #nussl_tfm.IndexSources('source_audio', 1),\n",
    "        nussl_tfm.ToSeparationModel(),\n",
    "    ])\n",
    "    \n",
    "    separator = nussl.separation.deep.DeepAudioEstimation(\n",
    "        nussl.AudioSignal(), model_path=model_path,\n",
    "        device='cpu',\n",
    "    )\n",
    "    \n",
    "    target_key = 'source_audio'\n",
    "    output_key = 'audio'\n",
    "    \n",
    "else:\n",
    "    stft_params = nussl.STFTParams(**configs['stft_params'])\n",
    "    \n",
    "    tfm = nussl_tfm.Compose([\n",
    "        #nussl_tfm.SumSources([['bass', 'drums', 'other']]),\n",
    "        nussl_tfm.MagnitudeSpectrumApproximation(),\n",
    "        #nussl_tfm.IndexSources('source_magnitudes', 1),\n",
    "        nussl_tfm.ToSeparationModel(),\n",
    "    ])\n",
    "    \n",
    "    separator = nussl.separation.deep.DeepMaskEstimation(\n",
    "        nussl.AudioSignal(), model_path=model_path,\n",
    "        device='cpu',\n",
    "    )\n",
    "    \n",
    "    target_key = 'source_magnitudes'\n",
    "    output_key = 'estimates'"
   ]
  },
  {
   "cell_type": "code",
   "execution_count": 28,
   "id": "fddab108-fa49-43bc-9782-e682fd203d2a",
   "metadata": {
    "tags": []
   },
   "outputs": [],
   "source": [
    "model_checkpoint = torch.load(model_path,map_location=torch.device('cpu'))\n",
    "#Optimizer checkpoints no longer stored\n",
    "#optimizer_checkpoint = torch.load(optimizer_path,map_location=torch.device('cpu'))"
   ]
  },
  {
   "cell_type": "code",
   "execution_count": 29,
   "id": "a1a268f2-1e5d-4ac8-91c7-8215973e737d",
   "metadata": {
    "tags": []
   },
   "outputs": [
    {
     "data": {
      "text/plain": [
       "{'epoch': 10,\n",
       " 'epoch_length': 10,\n",
       " 'max_epochs': 10,\n",
       " 'output': {'loss': 0.0012949208030477166},\n",
       " 'metrics': {'avg_loss': 0.0011957066380382038},\n",
       " 'seed': None}"
      ]
     },
     "execution_count": 29,
     "metadata": {},
     "output_type": "execute_result"
    }
   ],
   "source": [
    "model_checkpoint['metadata']['trainer.state_dict']"
   ]
  },
  {
   "cell_type": "code",
   "execution_count": 30,
   "id": "5db054fa-b925-42da-a506-93764aab3ee9",
   "metadata": {
    "tags": []
   },
   "outputs": [],
   "source": [
    "val_loss = model_checkpoint['metadata']['trainer.state.epoch_history']['validation/loss']\n",
    "train_loss = model_checkpoint['metadata']['trainer.state.epoch_history']['train/loss']\n",
    "n_epochs = model_checkpoint['metadata']['trainer.state_dict']['epoch']"
   ]
  },
  {
   "cell_type": "code",
   "execution_count": 31,
   "id": "ffed1b32-7ad1-4dda-8ed9-8ca2e0536699",
   "metadata": {
    "tags": []
   },
   "outputs": [
    {
     "data": {
      "text/plain": [
       "<matplotlib.legend.Legend at 0x7fad23b75750>"
      ]
     },
     "execution_count": 31,
     "metadata": {},
     "output_type": "execute_result"
    },
    {
     "data": {
      "image/png": "[encoded data removed]",
      "text/plain": [
       "<Figure size 400x300 with 1 Axes>"
      ]
     },
     "metadata": {},
     "output_type": "display_data"
    }
   ],
   "source": [
    "x = np.arange(n_epochs)\n",
    "plt.figure(figsize=(4,3))\n",
    "plt.plot(x,val_loss,label='Validation')\n",
    "plt.plot(x,train_loss,label='Training')\n",
    "plt.ylabel('Loss')\n",
    "plt.xlabel('Epoch')\n",
    "plt.legend()"
   ]
  },
  {
   "cell_type": "code",
   "execution_count": 32,
   "id": "15b16de2-245d-41db-9cfd-1448733397bd",
   "metadata": {
    "tags": []
   },
   "outputs": [
    {
     "data": {
      "text/plain": [
       "<matplotlib.legend.Legend at 0x7fad23a6dbd0>"
      ]
     },
     "execution_count": 32,
     "metadata": {},
     "output_type": "execute_result"
    },
    {
     "data": {
      "image/png": "[encoded data removed]",
      "text/plain": [
       "<Figure size 400x300 with 1 Axes>"
      ]
     },
     "metadata": {},
     "output_type": "display_data"
    }
   ],
   "source": [
    "x = np.arange(n_epochs)\n",
    "plt.figure(figsize=(4,3))\n",
    "plt.plot(x,np.log10(val_loss),label='Validation')\n",
    "plt.plot(x,np.log10(train_loss),label='Training')\n",
    "plt.ylabel('Log10 Loss')\n",
    "plt.xlabel('Epoch')\n",
    "plt.legend()"
   ]
  },
  {
   "cell_type": "code",
   "execution_count": 33,
   "id": "82545c6d-4148-4414-b7a4-61f5fe102d83",
   "metadata": {
    "tags": []
   },
   "outputs": [],
   "source": [
    "from utils import data\n",
    "#Test on the data\n",
    "test_folder = configs['test_folder']\n",
    "test_data = data.mixer(stft_params, transform=tfm, fg_path=configs['test_folder'], num_mixtures=50, coherent_prob=1.0, duration=5)\n",
    "test_dataloader = torch.utils.data.DataLoader(test_data, num_workers=1, batch_size=1)"
   ]
  },
  {
   "cell_type": "code",
   "execution_count": 34,
   "id": "ba78c836-f54c-458e-a4bd-ddcdafc3e136",
   "metadata": {
    "tags": []
   },
   "outputs": [],
   "source": [
    "for i,batch in enumerate(test_dataloader):\n",
    "    if i==1:\n",
    "        batch=batch\n",
    "        break\n",
    "    \n",
    "for key in batch:\n",
    "    if torch.is_tensor(batch[key]):\n",
    "        batch[key] = batch[key].float().to('cpu')   "
   ]
  },
  {
   "cell_type": "code",
   "execution_count": 35,
   "id": "2846c66f-a265-4a6a-b4a2-cb41063e5f93",
   "metadata": {
    "tags": []
   },
   "outputs": [],
   "source": [
    "self = separator.model.layers.model\n",
    "data = batch['mix_magnitude']\n",
    "output = separator.model(batch)"
   ]
  },
  {
   "cell_type": "code",
   "execution_count": 36,
   "id": "b4389e95-642d-46c5-8f77-52507c07c38f",
   "metadata": {
    "tags": []
   },
   "outputs": [],
   "source": [
    "mix_magnitude = data # save for masking\n",
    "\n",
    "\n",
    "#Scale spectrograms to dB range (logscale)\n",
    "data = self.amplitude_to_db(mix_magnitude)\n",
    "\n",
    "#Batch norm\n",
    "data = self.input_normalization(data)\n",
    "\n",
    "#N layers of BLSTM\n",
    "data = self.recurrent_stack(data)\n",
    "\n",
    "#FC layers to calculate mask (or embedding)\n",
    "mask = self.embedding(data)\n",
    "\n",
    "estimates = mix_magnitude.unsqueeze(-1) * mask"
   ]
  },
  {
   "cell_type": "code",
   "execution_count": 37,
   "id": "e2f317b5-3218-437b-a151-df25611614d9",
   "metadata": {
    "tags": []
   },
   "outputs": [
    {
     "data": {
      "text/plain": [
       "torch.Size([1, 6892, 128])"
      ]
     },
     "execution_count": 37,
     "metadata": {},
     "output_type": "execute_result"
    }
   ],
   "source": [
    "data.shape"
   ]
  },
  {
   "cell_type": "code",
   "execution_count": 39,
   "id": "59b11974-c7fc-4181-a65c-5304445f434b",
   "metadata": {
    "tags": []
   },
   "outputs": [
    {
     "data": {
      "text/plain": [
       "torch.Size([1, 6892, 65, 1])"
      ]
     },
     "execution_count": 39,
     "metadata": {},
     "output_type": "execute_result"
    }
   ],
   "source": [
    "mix_magnitude.shape"
   ]
  },
  {
   "cell_type": "code",
   "execution_count": 38,
   "id": "90ca6602-f38a-43d0-98a6-91715d2fd198",
   "metadata": {
    "tags": []
   },
   "outputs": [
    {
     "data": {
      "text/plain": [
       "torch.Size([1, 6892, 65, 1, 4])"
      ]
     },
     "execution_count": 38,
     "metadata": {},
     "output_type": "execute_result"
    }
   ],
   "source": [
    "mask.shape"
   ]
  },
  {
   "cell_type": "code",
   "execution_count": 38,
   "id": "81a29549-3209-4f89-880b-3d5d69568ca2",
   "metadata": {
    "tags": []
   },
   "outputs": [],
   "source": [
    "out = up_conv4"
   ]
  },
  {
   "cell_type": "code",
   "execution_count": 41,
   "id": "e4884414-d4b3-42c1-bf9b-a606b227ba5c",
   "metadata": {
    "tags": []
   },
   "outputs": [
    {
     "data": {
      "text/plain": [
       "torch.Size([1, 16, 432, 1024])"
      ]
     },
     "execution_count": 41,
     "metadata": {},
     "output_type": "execute_result"
    }
   ],
   "source": [
    "out.shape"
   ]
  },
  {
   "cell_type": "code",
   "execution_count": 13,
   "id": "702c5dbb-eb00-46dc-9bb8-d29243eeddec",
   "metadata": {
    "tags": []
   },
   "outputs": [
    {
     "ename": "NameError",
     "evalue": "name 'output' is not defined",
     "output_type": "error",
     "traceback": [
      "\u001b[0;31m---------------------------------------------------------------------------\u001b[0m",
      "\u001b[0;31mNameError\u001b[0m                                 Traceback (most recent call last)",
      "Cell \u001b[0;32mIn[13], line 1\u001b[0m\n\u001b[0;32m----> 1\u001b[0m out \u001b[38;5;241m=\u001b[39m \u001b[43moutput\u001b[49m[output_key]\u001b[38;5;241m.\u001b[39mdetach()\u001b[38;5;241m.\u001b[39mnumpy()\n\u001b[1;32m      2\u001b[0m target \u001b[38;5;241m=\u001b[39m batch[target_key]\u001b[38;5;241m.\u001b[39mdetach()\u001b[38;5;241m.\u001b[39mnumpy()\n",
      "\u001b[0;31mNameError\u001b[0m: name 'output' is not defined"
     ]
    }
   ],
   "source": [
    "out = output[output_key].detach().numpy()\n",
    "target = batch[target_key].detach().numpy()"
   ]
  },
  {
   "cell_type": "code",
   "execution_count": null,
   "id": "1d280041-f7e4-43d3-8f03-ad857e9be9e4",
   "metadata": {
    "tags": []
   },
   "outputs": [],
   "source": [
    "fig, axs = plt.subplots(2,2,figsize=(9,3))\n",
    "axs[0,0].plot(out.squeeze()[0,::100].T)\n",
    "axs[0,1].plot(out.squeeze()[1,::100].T)\n",
    "axs[1,0].plot(out.squeeze()[2,::100].T)\n",
    "axs[1,1].plot(out.squeeze()[3,::100].T)"
   ]
  },
  {
   "cell_type": "code",
   "execution_count": null,
   "id": "a884e9b6-6688-4883-bc79-06e76f1fab35",
   "metadata": {
    "tags": []
   },
   "outputs": [],
   "source": [
    "fig, axs = plt.subplots(2,2,figsize=(9,3))\n",
    "axs[0,0].plot(target.squeeze()[0,::100].T)\n",
    "axs[0,1].plot(target.squeeze()[1,::100].T)\n",
    "axs[1,0].plot(target.squeeze()[2,::100].T)\n",
    "axs[1,1].plot(target.squeeze()[3,::100].T)"
   ]
  },
  {
   "cell_type": "code",
   "execution_count": null,
   "id": "48897dcc-4493-416a-a74e-028d7e3a34ac",
   "metadata": {
    "tags": []
   },
   "outputs": [],
   "source": [
    "np.mean((target-out)**2)\n",
    "\n",
    "loss_fn = torch.nn.MSELoss()\n",
    "loss_fn(torch.tensor(target),torch.tensor(out))\n",
    "\n",
    "loss_fn = torch.nn.L1Loss()\n",
    "loss_fn(torch.tensor(target),torch.tensor(out))"
   ]
  },
  {
   "cell_type": "code",
   "execution_count": null,
   "id": "5b099e77-ef31-4e94-a193-7600eea78368",
   "metadata": {
    "tags": []
   },
   "outputs": [],
   "source": [
    "from utils import data\n",
    "\n",
    "#Test on the data\n",
    "test_folder = configs['test_folder']\n",
    "test_data = data.mixer(stft_params, transform=None, fg_path=configs['test_folder'], num_mixtures=50, coherent_prob=1.0, duration=5)"
   ]
  },
  {
   "cell_type": "code",
   "execution_count": null,
   "id": "a162732d-25b4-4599-b776-764686082b86",
   "metadata": {
    "tags": []
   },
   "outputs": [],
   "source": [
    "item = test_data[1]\n",
    "separator.audio_signal = item['mix']\n",
    "estimates = separator()\n",
    "viz.show_sources(estimates)"
   ]
  },
  {
   "cell_type": "code",
   "execution_count": null,
   "id": "2a80712e-b7ce-4969-86d4-14f689c46b03",
   "metadata": {},
   "outputs": [],
   "source": []
  }
 ],
 "metadata": {
  "kernelspec": {
   "display_name": "Python 3 (ipykernel)",
   "language": "python",
   "name": "python3"
  },
  "language_info": {
   "codemirror_mode": {
    "name": "ipython",
    "version": 3
   },
   "file_extension": ".py",
   "mimetype": "text/x-python",
   "name": "python",
   "nbconvert_exporter": "python",
   "pygments_lexer": "ipython3",
   "version": "3.10.10"
  }
 },
 "nbformat": 4,
 "nbformat_minor": 5
}
