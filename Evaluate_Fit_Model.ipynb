{
 "cells": [
  {
   "cell_type": "code",
   "execution_count": null,
   "id": "07f3aefa-3622-45f3-a5cc-c9d5808d2c80",
   "metadata": {
    "tags": []
   },
   "outputs": [],
   "source": [
    "import torch\n",
    "import matplotlib.pyplot as plt\n",
    "import numpy as np\n",
    "import pandas as pd\n",
    "import nussl\n",
    "from utils import viz, data\n",
    "import yaml\n",
    "import os"
   ]
  },
  {
   "cell_type": "code",
   "execution_count": null,
   "id": "ff9556d6-dc16-4935-979e-1e49db1a1781",
   "metadata": {
    "tags": []
   },
   "outputs": [],
   "source": [
    "import json\n",
    "from nussl.datasets import transforms as nussl_tfm\n",
    "from pathlib import Path"
   ]
  },
  {
   "cell_type": "code",
   "execution_count": null,
   "id": "f59314f9-8288-4927-a9ce-722b5c4ebb33",
   "metadata": {
    "tags": []
   },
   "outputs": [],
   "source": [
    "from models.MaskInference import MaskInference\n",
    "from models.UNet import UNetSpect\n",
    "from models.Filterbank import Filterbank\n",
    "nussl.ml.register_module(MaskInference)\n",
    "nussl.ml.register_module(UNetSpect)\n",
    "nussl.ml.register_module(Filterbank)"
   ]
  },
  {
   "cell_type": "code",
   "execution_count": null,
   "id": "b7ba6bb6-30b3-4c2a-b5b0-faf9c8316501",
   "metadata": {
    "tags": []
   },
   "outputs": [],
   "source": [
    "os.listdir('models/')"
   ]
  },
  {
   "cell_type": "code",
   "execution_count": null,
   "id": "a0dcde2d-6e42-4c0b-9e9d-0da62a1a9c0a",
   "metadata": {
    "tags": []
   },
   "outputs": [],
   "source": [
    "model_name = 'filterbank'"
   ]
  },
  {
   "cell_type": "code",
   "execution_count": null,
   "id": "008a4188-733e-4984-b253-25efdd559652",
   "metadata": {
    "tags": []
   },
   "outputs": [],
   "source": [
    "model_path = 'models/'+model_name+'/checkpoints/latest.model.pth'\n",
    "config_path = 'models/'+model_name+'/configs.yml'\n",
    "#Optimizer checkpoints no longer stored\n",
    "#optimizer_path = 'models/'+model_name+'/checkpoints/latest.optimizer.pth'"
   ]
  },
  {
   "cell_type": "code",
   "execution_count": null,
   "id": "f86a8dcf-0c98-4357-98bb-4fbafb62ace8",
   "metadata": {
    "tags": []
   },
   "outputs": [],
   "source": [
    "#Load yaml configs into configs dictionary\n",
    "with open(config_path,'r') as f:\n",
    "    configs = yaml.safe_load(f)\n",
    "    f.close()\n",
    "\n",
    "model_type = configs['model_type']\n",
    "waveform_models = ['Filterbank']\n",
    "if model_type in waveform_models:\n",
    "    stft_params = None\n",
    "    \n",
    "    separator = nussl.separation.deep.DeepAudioEstimation(\n",
    "        nussl.AudioSignal(), model_path='overfit/checkpoints/latest.model.pth',\n",
    "        device='cpu',\n",
    "    )\n",
    "else:\n",
    "    stft_params = nussl.STFTParams(**configs['stft_params'])\n",
    "    \n",
    "    separator = nussl.separation.deep.DeepMaskEstimation(\n",
    "        nussl.AudioSignal(), model_path=model_path,\n",
    "        device='cpu',\n",
    "    )"
   ]
  },
  {
   "cell_type": "code",
   "execution_count": null,
   "id": "fddab108-fa49-43bc-9782-e682fd203d2a",
   "metadata": {
    "tags": []
   },
   "outputs": [],
   "source": [
    "model_checkpoint = torch.load(model_path,map_location=torch.device('cpu'))\n",
    "#Optimizer checkpoints no longer stored\n",
    "#optimizer_checkpoint = torch.load(optimizer_path,map_location=torch.device('cpu'))"
   ]
  },
  {
   "cell_type": "code",
   "execution_count": null,
   "id": "a1a268f2-1e5d-4ac8-91c7-8215973e737d",
   "metadata": {
    "tags": []
   },
   "outputs": [],
   "source": [
    "model_checkpoint['metadata']['trainer.state_dict']"
   ]
  },
  {
   "cell_type": "code",
   "execution_count": null,
   "id": "5db054fa-b925-42da-a506-93764aab3ee9",
   "metadata": {
    "tags": []
   },
   "outputs": [],
   "source": [
    "val_loss = model_checkpoint['metadata']['trainer.state.epoch_history']['validation/loss']\n",
    "train_loss = model_checkpoint['metadata']['trainer.state.epoch_history']['train/loss']\n",
    "n_epochs = model_checkpoint['metadata']['trainer.state_dict']['epoch']"
   ]
  },
  {
   "cell_type": "code",
   "execution_count": null,
   "id": "15b16de2-245d-41db-9cfd-1448733397bd",
   "metadata": {
    "tags": []
   },
   "outputs": [],
   "source": [
    "x = np.arange(n_epochs)\n",
    "plt.figure(figsize=(4,3))\n",
    "plt.plot(x,np.log10(val_loss),label='Validation')\n",
    "plt.plot(x,np.log10(train_loss),label='Training')\n",
    "plt.ylabel('Log10 Loss')\n",
    "plt.xlabel('Epoch')\n",
    "plt.legend()"
   ]
  },
  {
   "cell_type": "code",
   "execution_count": null,
   "id": "07427abb-250e-4ded-9cd9-5a8956de9f50",
   "metadata": {
    "tags": []
   },
   "outputs": [],
   "source": [
    "test_data[0]"
   ]
  },
  {
   "cell_type": "code",
   "execution_count": null,
   "id": "a162732d-25b4-4599-b776-764686082b86",
   "metadata": {
    "tags": []
   },
   "outputs": [],
   "source": [
    "#Test on the data\n",
    "test_folder = configs['test_folder']\n",
    "tfm = None\n",
    "test_data = data.mixer(stft_params, transform=tfm, fg_path=configs['test_folder'], num_mixtures=50, coherent_prob=1.0, duration=5)\n",
    "\n",
    "item = test_data[1]\n",
    "separator.audio_signal = item['mix']\n",
    "estimates = separator()\n",
    "estimates.append(item['mix'] - estimates[0])\n",
    "\n",
    "viz.show_sources(estimates)"
   ]
  },
  {
   "cell_type": "code",
   "execution_count": null,
   "id": "89d3dc7c-ef07-4711-abcc-1a3aa49fe451",
   "metadata": {},
   "outputs": [],
   "source": []
  },
  {
   "cell_type": "code",
   "execution_count": null,
   "id": "2cd29edd-ee88-46eb-9783-9d3bdcce270e",
   "metadata": {},
   "outputs": [],
   "source": []
  },
  {
   "cell_type": "code",
   "execution_count": null,
   "id": "c5673f8d-dce8-47d8-9e4d-103495ecac27",
   "metadata": {},
   "outputs": [],
   "source": []
  }
 ],
 "metadata": {
  "kernelspec": {
   "display_name": "Python 3 (ipykernel)",
   "language": "python",
   "name": "python3"
  },
  "language_info": {
   "codemirror_mode": {
    "name": "ipython",
    "version": 3
   },
   "file_extension": ".py",
   "mimetype": "text/x-python",
   "name": "python",
   "nbconvert_exporter": "python",
   "pygments_lexer": "ipython3",
   "version": "3.10.10"
  }
 },
 "nbformat": 4,
 "nbformat_minor": 5
}
