{
 "cells": [
  {
   "cell_type": "code",
   "execution_count": 1,
   "id": "07f3aefa-3622-45f3-a5cc-c9d5808d2c80",
   "metadata": {
    "tags": []
   },
   "outputs": [],
   "source": [
    "import torch\n",
    "import matplotlib.pyplot as plt\n",
    "import numpy as np\n",
    "import nussl\n",
    "from utils import viz, data\n",
    "import yaml\n",
    "import os"
   ]
  },
  {
   "cell_type": "code",
   "execution_count": 2,
   "id": "f59314f9-8288-4927-a9ce-722b5c4ebb33",
   "metadata": {
    "tags": []
   },
   "outputs": [],
   "source": [
    "from models.MaskInference import MaskInference\n",
    "nussl.ml.register_module(MaskInference)"
   ]
  },
  {
   "cell_type": "code",
   "execution_count": 6,
   "id": "b7ba6bb6-30b3-4c2a-b5b0-faf9c8316501",
   "metadata": {
    "tags": []
   },
   "outputs": [
    {
     "data": {
      "text/plain": [
       "['.ipynb_checkpoints',\n",
       " 'ST_mask_10_256_32hop',\n",
       " 'ST_mask_10_256_0.3dropout',\n",
       " 'test_auto',\n",
       " '__pycache__',\n",
       " 'ST_mask_5layer_256hidden',\n",
       " 'MaskInference.py',\n",
       " 'ST_mask_0.01LR_5layer',\n",
       " 'ST_mask_10_256_1e-4LR',\n",
       " 'Waveform.py',\n",
       " 'UNet.py',\n",
       " 'Filterbank.py',\n",
       " 'ST_mask_1layer',\n",
       " 'ST_mask_5layer',\n",
       " 'Clustering.py',\n",
       " 'ST_mask_10layer_256hidden']"
      ]
     },
     "execution_count": 6,
     "metadata": {},
     "output_type": "execute_result"
    }
   ],
   "source": [
    "os.listdir('models/')"
   ]
  },
  {
   "cell_type": "code",
   "execution_count": null,
   "id": "a0dcde2d-6e42-4c0b-9e9d-0da62a1a9c0a",
   "metadata": {
    "tags": []
   },
   "outputs": [],
   "source": [
    "model_name = 'ST_mask_10_256_1e-4LR'"
   ]
  },
  {
   "cell_type": "code",
   "execution_count": null,
   "id": "008a4188-733e-4984-b253-25efdd559652",
   "metadata": {
    "tags": []
   },
   "outputs": [],
   "source": [
    "model_path = 'models/'+model_name+'/checkpoints/latest.model.pth'\n",
    "optimizer_path = 'models/'+model_name+'/checkpoints/latest.optimizer.pth'\n",
    "config_path = 'models/'+model_name+'/configs.yml'"
   ]
  },
  {
   "cell_type": "code",
   "execution_count": null,
   "id": "f86a8dcf-0c98-4357-98bb-4fbafb62ace8",
   "metadata": {
    "tags": []
   },
   "outputs": [],
   "source": [
    "#Load yaml configs into configs dictionary\n",
    "with open(config_path,'r') as f:\n",
    "    configs = yaml.safe_load(f)\n",
    "    f.close()\n",
    "stft_params = nussl.STFTParams(**configs['stft_params'])"
   ]
  },
  {
   "cell_type": "code",
   "execution_count": null,
   "id": "fddab108-fa49-43bc-9782-e682fd203d2a",
   "metadata": {
    "tags": []
   },
   "outputs": [],
   "source": [
    "model_checkpoint = torch.load(model_path,map_location=torch.device('cpu'))\n",
    "optimizer_checkpoint = torch.load(optimizer_path,map_location=torch.device('cpu'))"
   ]
  },
  {
   "cell_type": "code",
   "execution_count": null,
   "id": "603e5515-345c-4146-b37a-39d7945cf9f2",
   "metadata": {
    "tags": []
   },
   "outputs": [],
   "source": [
    "#optimizer_checkpoint['param_groups']model_checkpoint['metadata'].keys()"
   ]
  },
  {
   "cell_type": "code",
   "execution_count": null,
   "id": "3c4cabe2-ab36-4419-96c3-17fa3a00c307",
   "metadata": {
    "tags": []
   },
   "outputs": [],
   "source": [
    "model_checkpoint['metadata']['config']"
   ]
  },
  {
   "cell_type": "code",
   "execution_count": null,
   "id": "a1a268f2-1e5d-4ac8-91c7-8215973e737d",
   "metadata": {
    "tags": []
   },
   "outputs": [],
   "source": [
    "model_checkpoint['metadata']['trainer.state_dict']"
   ]
  },
  {
   "cell_type": "code",
   "execution_count": null,
   "id": "5db054fa-b925-42da-a506-93764aab3ee9",
   "metadata": {
    "tags": []
   },
   "outputs": [],
   "source": [
    "val_loss = model_checkpoint['metadata']['trainer.state.epoch_history']['validation/loss']\n",
    "train_loss = model_checkpoint['metadata']['trainer.state.epoch_history']['train/loss']\n",
    "n_epochs = model_checkpoint['metadata']['trainer.state_dict']['epoch']"
   ]
  },
  {
   "cell_type": "code",
   "execution_count": null,
   "id": "15b16de2-245d-41db-9cfd-1448733397bd",
   "metadata": {
    "tags": []
   },
   "outputs": [],
   "source": [
    "x = np.arange(n_epochs)\n",
    "plt.figure(figsize=(4,3))\n",
    "plt.plot(x,val_loss)\n",
    "plt.plot(x,train_loss)\n",
    "plt.ylabel('Loss (L1)')\n",
    "plt.xlabel('Epoch')"
   ]
  },
  {
   "cell_type": "code",
   "execution_count": null,
   "id": "a162732d-25b4-4599-b776-764686082b86",
   "metadata": {
    "tags": []
   },
   "outputs": [],
   "source": [
    "#Load in the model\n",
    "separator = nussl.separation.deep.DeepMaskEstimation(\n",
    "    nussl.AudioSignal(), model_path=model_path,\n",
    "    device='cpu',\n",
    ")\n",
    "\n",
    "\n",
    "#Test on the data\n",
    "test_folder = configs['test_folder']\n",
    "test_data = data.mixer(stft_params, transform=None, fg_path=configs['test_folder'], num_mixtures=999999, coherent_prob=1.0, duration=5)\n",
    "item = test_data[1]\n",
    "separator.audio_signal = item['mix']\n",
    "estimates = separator()\n",
    "estimates.append(item['mix'] - estimates[0])"
   ]
  },
  {
   "cell_type": "code",
   "execution_count": null,
   "id": "052628aa-fa15-4959-9801-01c95b4dd1e5",
   "metadata": {
    "tags": []
   },
   "outputs": [],
   "source": [
    "viz.show_sources(estimates)"
   ]
  },
  {
   "cell_type": "code",
   "execution_count": null,
   "id": "48adc5f7-8f86-4ccb-9fe1-fc54ab76622a",
   "metadata": {},
   "outputs": [],
   "source": [
    "import json\n",
    "from nussl.datasets import transforms as nussl_tfm\n",
    "from pathlib import Path\n",
    "\n",
    "tfm = nussl_tfm.Compose([\n",
    "    nussl_tfm.SumSources([['bass', 'drums', 'other']]),\n",
    "])\n",
    "test_dataset = nussl.datasets.MUSDB18(subsets=['test'], transform=tfm)\n",
    "\n",
    "# Just do 5 items for speed. Change to 50 for actual experiment.\n",
    "for i in range(5):\n",
    "    item = test_dataset[i]\n",
    "    separator.audio_signal = item['mix']\n",
    "    estimates = separator()\n",
    "\n",
    "    source_keys = list(item['sources'].keys())\n",
    "    estimates = {\n",
    "        'vocals': estimates[0],\n",
    "        'bass+drums+other': item['mix'] - estimates[0]\n",
    "    }\n",
    "\n",
    "    sources = [item['sources'][k] for k in source_keys]\n",
    "    estimates = [estimates[k] for k in source_keys]\n",
    "\n",
    "    evaluator = nussl.evaluation.BSSEvalScale(\n",
    "        sources, estimates, source_labels=source_keys\n",
    "    )\n",
    "    scores = evaluator.evaluate()"
   ]
  },
  {
   "cell_type": "code",
   "execution_count": null,
   "id": "ffe0e3ae-9476-44cb-9417-a5e85a29906f",
   "metadata": {
    "tags": []
   },
   "outputs": [],
   "source": [
    "scores"
   ]
  },
  {
   "cell_type": "code",
   "execution_count": null,
   "id": "aa86eb57-cc41-4588-b9f2-961321396667",
   "metadata": {},
   "outputs": [],
   "source": []
  },
  {
   "cell_type": "code",
   "execution_count": null,
   "id": "736c6730-e12b-4330-9d98-c9b2df570e0d",
   "metadata": {},
   "outputs": [],
   "source": []
  }
 ],
 "metadata": {
  "kernelspec": {
   "display_name": "Python 3 (ipykernel)",
   "language": "python",
   "name": "python3"
  },
  "language_info": {
   "codemirror_mode": {
    "name": "ipython",
    "version": 3
   },
   "file_extension": ".py",
   "mimetype": "text/x-python",
   "name": "python",
   "nbconvert_exporter": "python",
   "pygments_lexer": "ipython3",
   "version": "3.10.10"
  }
 },
 "nbformat": 4,
 "nbformat_minor": 5
}
