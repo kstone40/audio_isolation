{
 "cells": [
  {
   "cell_type": "code",
   "execution_count": 54,
   "id": "306ce0bd-f18e-4093-82c7-ef5cc7db1748",
   "metadata": {
    "tags": []
   },
   "outputs": [],
   "source": [
    "import pandas as pd\n",
    "import numpy as np\n",
    "import matplotlib.pyplot as plt"
   ]
  },
  {
   "cell_type": "code",
   "execution_count": 35,
   "id": "2877de49-7220-4694-9312-2eda4df9d6c7",
   "metadata": {
    "tags": []
   },
   "outputs": [],
   "source": [
    "df_eval = pd.read_csv('Model_Evaluations.csv',index_col=0)"
   ]
  },
  {
   "cell_type": "code",
   "execution_count": 39,
   "id": "9c1006aa-38bc-429c-b068-0c08040099ae",
   "metadata": {
    "tags": []
   },
   "outputs": [],
   "source": [
    "key_responses = ['SI-SDR']"
   ]
  },
  {
   "cell_type": "code",
   "execution_count": 46,
   "id": "6bc5d901-f089-4df2-befe-072ade2487c2",
   "metadata": {
    "tags": []
   },
   "outputs": [
    {
     "data": {
      "text/html": [
       "<div>\n",
       "<style scoped>\n",
       "    .dataframe tbody tr th:only-of-type {\n",
       "        vertical-align: middle;\n",
       "    }\n",
       "\n",
       "    .dataframe tbody tr th {\n",
       "        vertical-align: top;\n",
       "    }\n",
       "\n",
       "    .dataframe thead th {\n",
       "        text-align: right;\n",
       "    }\n",
       "</style>\n",
       "<table border=\"1\" class=\"dataframe\">\n",
       "  <thead>\n",
       "    <tr style=\"text-align: right;\">\n",
       "      <th></th>\n",
       "      <th>SI-SDR</th>\n",
       "      <th>Source</th>\n",
       "      <th>Model</th>\n",
       "      <th>Loss Type</th>\n",
       "      <th>Final Loss</th>\n",
       "      <th>STFT hop_length</th>\n",
       "      <th>STFT window_length</th>\n",
       "      <th>Model activation</th>\n",
       "      <th>Model bidirectional</th>\n",
       "      <th>Model dropout</th>\n",
       "      <th>...</th>\n",
       "      <th>SD-SDR</th>\n",
       "      <th>SNR</th>\n",
       "      <th>SRR</th>\n",
       "      <th>SI-SDRi</th>\n",
       "      <th>SD-SDRi</th>\n",
       "      <th>SNRi</th>\n",
       "      <th>MIX-SI-SDR</th>\n",
       "      <th>MIX-SD-SDR</th>\n",
       "      <th>MIX-SNR</th>\n",
       "      <th>STFT window_type</th>\n",
       "    </tr>\n",
       "  </thead>\n",
       "  <tbody>\n",
       "    <tr>\n",
       "      <th>10</th>\n",
       "      <td>-3.987443</td>\n",
       "      <td>vocals</td>\n",
       "      <td>Mask</td>\n",
       "      <td>L1</td>\n",
       "      <td>0.000425</td>\n",
       "      <td>128</td>\n",
       "      <td>512</td>\n",
       "      <td>sigmoid</td>\n",
       "      <td>True</td>\n",
       "      <td>0.5</td>\n",
       "      <td>...</td>\n",
       "      <td>-9.499844</td>\n",
       "      <td>1.083497</td>\n",
       "      <td>-6.576769</td>\n",
       "      <td>5.371339</td>\n",
       "      <td>-0.140603</td>\n",
       "      <td>10.554518</td>\n",
       "      <td>-9.358782</td>\n",
       "      <td>-9.359241</td>\n",
       "      <td>-9.47102</td>\n",
       "      <td>sqrt_hann</td>\n",
       "    </tr>\n",
       "    <tr>\n",
       "      <th>2</th>\n",
       "      <td>-4.344340</td>\n",
       "      <td>vocals</td>\n",
       "      <td>Mask</td>\n",
       "      <td>L1</td>\n",
       "      <td>0.000396</td>\n",
       "      <td>128</td>\n",
       "      <td>512</td>\n",
       "      <td>sigmoid</td>\n",
       "      <td>True</td>\n",
       "      <td>0.3</td>\n",
       "      <td>...</td>\n",
       "      <td>-10.856572</td>\n",
       "      <td>1.091137</td>\n",
       "      <td>-8.396189</td>\n",
       "      <td>5.014442</td>\n",
       "      <td>-1.497330</td>\n",
       "      <td>10.562158</td>\n",
       "      <td>-9.358782</td>\n",
       "      <td>-9.359241</td>\n",
       "      <td>-9.47102</td>\n",
       "      <td>sqrt_hann</td>\n",
       "    </tr>\n",
       "    <tr>\n",
       "      <th>0</th>\n",
       "      <td>-4.455855</td>\n",
       "      <td>vocals</td>\n",
       "      <td>Mask</td>\n",
       "      <td>L1</td>\n",
       "      <td>0.000423</td>\n",
       "      <td>128</td>\n",
       "      <td>512</td>\n",
       "      <td>sigmoid</td>\n",
       "      <td>True</td>\n",
       "      <td>0.3</td>\n",
       "      <td>...</td>\n",
       "      <td>-10.017677</td>\n",
       "      <td>1.012083</td>\n",
       "      <td>-7.091688</td>\n",
       "      <td>4.902927</td>\n",
       "      <td>-0.658436</td>\n",
       "      <td>10.483103</td>\n",
       "      <td>-9.358782</td>\n",
       "      <td>-9.359241</td>\n",
       "      <td>-9.47102</td>\n",
       "      <td>NaN</td>\n",
       "    </tr>\n",
       "    <tr>\n",
       "      <th>8</th>\n",
       "      <td>-4.472857</td>\n",
       "      <td>vocals</td>\n",
       "      <td>Mask</td>\n",
       "      <td>L1</td>\n",
       "      <td>0.000407</td>\n",
       "      <td>128</td>\n",
       "      <td>512</td>\n",
       "      <td>sigmoid</td>\n",
       "      <td>True</td>\n",
       "      <td>0.1</td>\n",
       "      <td>...</td>\n",
       "      <td>-9.978090</td>\n",
       "      <td>0.954451</td>\n",
       "      <td>-6.995761</td>\n",
       "      <td>4.885925</td>\n",
       "      <td>-0.618849</td>\n",
       "      <td>10.425472</td>\n",
       "      <td>-9.358782</td>\n",
       "      <td>-9.359241</td>\n",
       "      <td>-9.47102</td>\n",
       "      <td>sqrt_hann</td>\n",
       "    </tr>\n",
       "    <tr>\n",
       "      <th>4</th>\n",
       "      <td>-4.594011</td>\n",
       "      <td>vocals</td>\n",
       "      <td>Mask</td>\n",
       "      <td>L1</td>\n",
       "      <td>0.000424</td>\n",
       "      <td>128</td>\n",
       "      <td>512</td>\n",
       "      <td>sigmoid</td>\n",
       "      <td>True</td>\n",
       "      <td>0.3</td>\n",
       "      <td>...</td>\n",
       "      <td>-10.289258</td>\n",
       "      <td>0.970911</td>\n",
       "      <td>-7.411518</td>\n",
       "      <td>4.764771</td>\n",
       "      <td>-0.930016</td>\n",
       "      <td>10.441931</td>\n",
       "      <td>-9.358782</td>\n",
       "      <td>-9.359241</td>\n",
       "      <td>-9.47102</td>\n",
       "      <td>sqrt_hann</td>\n",
       "    </tr>\n",
       "    <tr>\n",
       "      <th>6</th>\n",
       "      <td>-4.787651</td>\n",
       "      <td>vocals</td>\n",
       "      <td>Mask</td>\n",
       "      <td>L1</td>\n",
       "      <td>0.000494</td>\n",
       "      <td>128</td>\n",
       "      <td>512</td>\n",
       "      <td>sigmoid</td>\n",
       "      <td>True</td>\n",
       "      <td>0.3</td>\n",
       "      <td>...</td>\n",
       "      <td>-12.015230</td>\n",
       "      <td>0.863831</td>\n",
       "      <td>-9.543993</td>\n",
       "      <td>4.571130</td>\n",
       "      <td>-2.655989</td>\n",
       "      <td>10.334851</td>\n",
       "      <td>-9.358782</td>\n",
       "      <td>-9.359241</td>\n",
       "      <td>-9.47102</td>\n",
       "      <td>sqrt_hann</td>\n",
       "    </tr>\n",
       "  </tbody>\n",
       "</table>\n",
       "<p>6 rows × 33 columns</p>\n",
       "</div>"
      ],
      "text/plain": [
       "      SI-SDR  Source Model Loss Type  Final Loss  STFT hop_length   \n",
       "10 -3.987443  vocals  Mask        L1    0.000425              128  \\\n",
       "2  -4.344340  vocals  Mask        L1    0.000396              128   \n",
       "0  -4.455855  vocals  Mask        L1    0.000423              128   \n",
       "8  -4.472857  vocals  Mask        L1    0.000407              128   \n",
       "4  -4.594011  vocals  Mask        L1    0.000424              128   \n",
       "6  -4.787651  vocals  Mask        L1    0.000494              128   \n",
       "\n",
       "    STFT window_length Model activation  Model bidirectional  Model dropout   \n",
       "10                 512          sigmoid                 True            0.5  \\\n",
       "2                  512          sigmoid                 True            0.3   \n",
       "0                  512          sigmoid                 True            0.3   \n",
       "8                  512          sigmoid                 True            0.1   \n",
       "4                  512          sigmoid                 True            0.3   \n",
       "6                  512          sigmoid                 True            0.3   \n",
       "\n",
       "    ...     SD-SDR       SNR       SRR   SI-SDRi   SD-SDRi       SNRi   \n",
       "10  ...  -9.499844  1.083497 -6.576769  5.371339 -0.140603  10.554518  \\\n",
       "2   ... -10.856572  1.091137 -8.396189  5.014442 -1.497330  10.562158   \n",
       "0   ... -10.017677  1.012083 -7.091688  4.902927 -0.658436  10.483103   \n",
       "8   ...  -9.978090  0.954451 -6.995761  4.885925 -0.618849  10.425472   \n",
       "4   ... -10.289258  0.970911 -7.411518  4.764771 -0.930016  10.441931   \n",
       "6   ... -12.015230  0.863831 -9.543993  4.571130 -2.655989  10.334851   \n",
       "\n",
       "    MIX-SI-SDR  MIX-SD-SDR  MIX-SNR  STFT window_type  \n",
       "10   -9.358782   -9.359241 -9.47102         sqrt_hann  \n",
       "2    -9.358782   -9.359241 -9.47102         sqrt_hann  \n",
       "0    -9.358782   -9.359241 -9.47102               NaN  \n",
       "8    -9.358782   -9.359241 -9.47102         sqrt_hann  \n",
       "4    -9.358782   -9.359241 -9.47102         sqrt_hann  \n",
       "6    -9.358782   -9.359241 -9.47102         sqrt_hann  \n",
       "\n",
       "[6 rows x 33 columns]"
      ]
     },
     "execution_count": 46,
     "metadata": {},
     "output_type": "execute_result"
    }
   ],
   "source": [
    "df_vocals = df_eval.query('Source == \"vocals\"')\n",
    "\n",
    "#Reorder columns so key response is first\n",
    "cols = df_vocals.columns.tolist()\n",
    "for r in key_responses:\n",
    "    cols.remove(r)\n",
    "new_cols = key_responses + cols\n",
    "df_vocals = df_vocals[new_cols]\n",
    "\n",
    "df_vocals = df_vocals.sort_values(key_responses,ascending=False)\n",
    "df_vocals"
   ]
  },
  {
   "cell_type": "code",
   "execution_count": 47,
   "id": "c6ee23be-bf36-446c-9e5b-c9057b1a2fdc",
   "metadata": {
    "tags": []
   },
   "outputs": [],
   "source": [
    "df_vocals.to_csv('Vocal_Evaluations.csv')"
   ]
  },
  {
   "cell_type": "code",
   "execution_count": 48,
   "id": "ae356161-fcff-484e-9540-3398303c0085",
   "metadata": {
    "tags": []
   },
   "outputs": [],
   "source": [
    "df_vocals_maskonly = df_vocals.query('Model == \"Mask\"')"
   ]
  },
  {
   "cell_type": "code",
   "execution_count": 53,
   "id": "45e2e484-980c-4d76-ada1-8c7f270297de",
   "metadata": {
    "tags": []
   },
   "outputs": [
    {
     "data": {
      "text/plain": [
       "<matplotlib.collections.PathCollection at 0x7fb1a6ce24a0>"
      ]
     },
     "execution_count": 53,
     "metadata": {},
     "output_type": "execute_result"
    },
    {
     "data": {
      "image/png": "[encoded data removed]",
      "text/plain": [
       "<Figure size 640x480 with 1 Axes>"
      ]
     },
     "metadata": {},
     "output_type": "display_data"
    }
   ],
   "source": [
    "plt.scatter(df_vocals_maskonly['Model num_layers'], df_vocals_maskonly['SI-SDR'])"
   ]
  },
  {
   "cell_type": "code",
   "execution_count": null,
   "id": "45a1f059-4c47-4965-95e5-f27d4a329def",
   "metadata": {},
   "outputs": [],
   "source": []
  }
 ],
 "metadata": {
  "kernelspec": {
   "display_name": "Python 3 (ipykernel)",
   "language": "python",
   "name": "python3"
  },
  "language_info": {
   "codemirror_mode": {
    "name": "ipython",
    "version": 3
   },
   "file_extension": ".py",
   "mimetype": "text/x-python",
   "name": "python",
   "nbconvert_exporter": "python",
   "pygments_lexer": "ipython3",
   "version": "3.10.10"
  }
 },
 "nbformat": 4,
 "nbformat_minor": 5
}
