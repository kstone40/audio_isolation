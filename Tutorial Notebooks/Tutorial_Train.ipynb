{
 "cells": [
  {
   "cell_type": "code",
   "execution_count": 1,
   "id": "31e7a555-47d9-480c-84ec-b61afbf0f40f",
   "metadata": {
    "tags": []
   },
   "outputs": [],
   "source": [
    "import nussl\n",
    "import torch\n",
    "from nussl.datasets import transforms as nussl_tfm\n",
    "from models.MaskInference import MaskInference\n",
    "from utils import data, viz, utils\n",
    "from pathlib import Path"
   ]
  },
  {
   "cell_type": "code",
   "execution_count": 150,
   "id": "fbf7300e-291c-49db-ba4e-105288011ce4",
   "metadata": {
    "tags": []
   },
   "outputs": [],
   "source": [
    "# # Prepare MUSDB\n",
    "# data.prepare_musdb('~/.nussl/tutorial/')\n",
    "# data.prepare_musdbhq(folder='data/musdb18hq/',musdb_root='/SFS/user/ry/stonekev/.nussl/',download=True)"
   ]
  },
  {
   "cell_type": "code",
   "execution_count": 12,
   "id": "9e066e91-ea79-4297-b1f3-11ce59a6ca48",
   "metadata": {
    "tags": []
   },
   "outputs": [
    {
     "ename": "MetadataError",
     "evalue": "No matching metadata for file mask-inference-wsj2mix-model-v1.pth at url http://nussl.ci.northwestern.edu/audio-metadata.json!",
     "output_type": "error",
     "traceback": [
      "\u001b[0;31m---------------------------------------------------------------------------\u001b[0m",
      "\u001b[0;31mMetadataError\u001b[0m                             Traceback (most recent call last)",
      "Cell \u001b[0;32mIn[12], line 1\u001b[0m\n\u001b[0;32m----> 1\u001b[0m model_path \u001b[38;5;241m=\u001b[39m \u001b[43mnussl\u001b[49m\u001b[38;5;241;43m.\u001b[39;49m\u001b[43mefz_utils\u001b[49m\u001b[38;5;241;43m.\u001b[39;49m\u001b[43mdownload_trained_model\u001b[49m\u001b[43m(\u001b[49m\n\u001b[1;32m      2\u001b[0m \u001b[43m    \u001b[49m\u001b[38;5;124;43m'\u001b[39;49m\u001b[38;5;124;43mmask-inference-wsj2mix-model-v1.pth\u001b[39;49m\u001b[38;5;124;43m'\u001b[39;49m\u001b[43m)\u001b[49m\n",
      "File \u001b[0;32m~/miniconda3/envs/audio/lib/python3.10/site-packages/nussl/core/efz_utils.py:392\u001b[0m, in \u001b[0;36mdownload_trained_model\u001b[0;34m(model_name, local_folder, verbose)\u001b[0m\n\u001b[1;32m    366\u001b[0m \u001b[38;5;28;01mdef\u001b[39;00m \u001b[38;5;21mdownload_trained_model\u001b[39m(model_name, local_folder\u001b[38;5;241m=\u001b[39m\u001b[38;5;28;01mNone\u001b[39;00m, verbose\u001b[38;5;241m=\u001b[39m\u001b[38;5;28;01mTrue\u001b[39;00m):\n\u001b[1;32m    367\u001b[0m \u001b[38;5;250m    \u001b[39m\u001b[38;5;124;03m\"\"\"\u001b[39;00m\n\u001b[1;32m    368\u001b[0m \u001b[38;5;124;03m    Downloads the specified trained model from the `nussl` External File Zoo (EFZ) server. The\u001b[39;00m\n\u001b[1;32m    369\u001b[0m \u001b[38;5;124;03m    downloaded file is stored in :param:`local_folder` if a folder is provided. If a folder is\u001b[39;00m\n\u001b[0;32m   (...)\u001b[0m\n\u001b[1;32m    390\u001b[0m \n\u001b[1;32m    391\u001b[0m \u001b[38;5;124;03m    \"\"\"\u001b[39;00m\n\u001b[0;32m--> 392\u001b[0m     file_metadata \u001b[38;5;241m=\u001b[39m \u001b[43m_download_metadata_for_file\u001b[49m\u001b[43m(\u001b[49m\u001b[43mmodel_name\u001b[49m\u001b[43m,\u001b[49m\u001b[43m \u001b[49m\u001b[38;5;124;43m'\u001b[39;49m\u001b[38;5;124;43mmodel\u001b[39;49m\u001b[38;5;124;43m'\u001b[39;49m\u001b[43m)\u001b[49m\n\u001b[1;32m    394\u001b[0m     file_hash \u001b[38;5;241m=\u001b[39m file_metadata[\u001b[38;5;124m'\u001b[39m\u001b[38;5;124mfile_hash\u001b[39m\u001b[38;5;124m'\u001b[39m]\n\u001b[1;32m    396\u001b[0m     file_url \u001b[38;5;241m=\u001b[39m urljoin(constants\u001b[38;5;241m.\u001b[39mNUSSL_EFZ_MODELS_URL, model_name)\n",
      "File \u001b[0;32m~/miniconda3/envs/audio/lib/python3.10/site-packages/nussl/core/efz_utils.py:324\u001b[0m, in \u001b[0;36m_download_metadata_for_file\u001b[0;34m(file_name, file_type)\u001b[0m\n\u001b[1;32m    321\u001b[0m     \u001b[38;5;28;01mif\u001b[39;00m file_metadata[\u001b[38;5;124m'\u001b[39m\u001b[38;5;124mfile_name\u001b[39m\u001b[38;5;124m'\u001b[39m] \u001b[38;5;241m==\u001b[39m file_name:\n\u001b[1;32m    322\u001b[0m         \u001b[38;5;28;01mreturn\u001b[39;00m file_metadata\n\u001b[0;32m--> 324\u001b[0m \u001b[38;5;28;01mraise\u001b[39;00m MetadataError(\n\u001b[1;32m    325\u001b[0m     \u001b[38;5;124mf\u001b[39m\u001b[38;5;124m'\u001b[39m\u001b[38;5;124mNo matching metadata for file \u001b[39m\u001b[38;5;132;01m{\u001b[39;00mfile_name\u001b[38;5;132;01m}\u001b[39;00m\u001b[38;5;124m'\u001b[39m\n\u001b[1;32m    326\u001b[0m     \u001b[38;5;124mf\u001b[39m\u001b[38;5;124m'\u001b[39m\u001b[38;5;124m at url \u001b[39m\u001b[38;5;132;01m{\u001b[39;00mconstants\u001b[38;5;241m.\u001b[39mNUSSL_EFZ_AUDIO_METADATA_URL\u001b[38;5;132;01m}\u001b[39;00m\u001b[38;5;124m!\u001b[39m\u001b[38;5;124m'\u001b[39m\n\u001b[1;32m    327\u001b[0m )\n",
      "\u001b[0;31mMetadataError\u001b[0m: No matching metadata for file mask-inference-wsj2mix-model-v1.pth at url http://nussl.ci.northwestern.edu/audio-metadata.json!"
     ]
    }
   ],
   "source": [
    "model_path = nussl.efz_utils.download_trained_model(\n",
    "    'mask-inference-wsj2mix-model-v1.pth')"
   ]
  },
  {
   "cell_type": "code",
   "execution_count": 2,
   "id": "00df85fa-c039-4898-8379-80f515685c00",
   "metadata": {
    "tags": []
   },
   "outputs": [],
   "source": [
    "utils.logger()\n",
    "DEVICE = 'cuda' if torch.cuda.is_available() else 'cpu'\n",
    "MAX_MIXTURES = int(1e8) # We'll set this to some impossibly high number for on the fly mixing.\n",
    "\n",
    "stft_params = nussl.STFTParams(window_length=512, hop_length=128)\n",
    "\n",
    "tfm = nussl_tfm.Compose([\n",
    "    nussl_tfm.SumSources([['bass', 'drums', 'other']]),\n",
    "    nussl_tfm.MagnitudeSpectrumApproximation(),\n",
    "    nussl_tfm.IndexSources('source_magnitudes', 1),\n",
    "    nussl_tfm.ToSeparationModel(),\n",
    "])\n",
    "\n",
    "train_folder = \"~/.nussl/tutorial/train\"\n",
    "val_folder = \"~/.nussl/tutorial/valid\"\n",
    "\n",
    "train_data = data.on_the_fly(stft_params, transform=tfm, \n",
    "    fg_path=train_folder, num_mixtures=MAX_MIXTURES, coherent_prob=1.0)\n",
    "train_dataloader = torch.utils.data.DataLoader(\n",
    "    train_data, num_workers=1, batch_size=10)\n",
    "\n",
    "val_data = data.on_the_fly(stft_params, transform=tfm, \n",
    "    fg_path=val_folder, num_mixtures=10, coherent_prob=1.0)\n",
    "val_dataloader = torch.utils.data.DataLoader(\n",
    "    val_data, num_workers=1, batch_size=10)"
   ]
  },
  {
   "cell_type": "code",
   "execution_count": 10,
   "id": "dedddd3f-3e1d-4b9f-bdf5-6748937a3b21",
   "metadata": {
    "tags": []
   },
   "outputs": [
    {
     "data": {
      "text/plain": [
       "dict_keys(['index', 'mix_magnitude', 'ideal_binary_mask', 'source_magnitudes'])"
      ]
     },
     "execution_count": 10,
     "metadata": {},
     "output_type": "execute_result"
    }
   ],
   "source": [
    "train_data[0]['source_magnitudes'].shape"
   ]
  },
  {
   "cell_type": "code",
   "execution_count": 8,
   "id": "ce452152-90f5-4641-82b3-6b75eb0a08c3",
   "metadata": {
    "tags": []
   },
   "outputs": [
    {
     "data": {
      "text/plain": [
       "torch.Size([1724, 257, 1, 1])"
      ]
     },
     "execution_count": 8,
     "metadata": {},
     "output_type": "execute_result"
    }
   ],
   "source": [
    "train_data[0]['source_magnitudes'].shape"
   ]
  },
  {
   "cell_type": "code",
   "execution_count": 3,
   "id": "20a523b6-9cbe-4849-98cd-7ca5dcdef785",
   "metadata": {
    "tags": []
   },
   "outputs": [],
   "source": [
    "nf = stft_params.window_length // 2 + 1\n",
    "model = MaskInference.build(nf, 1, 50, 1, True, 0.0, 1, 'sigmoid')\n",
    "optimizer = torch.optim.Adam(model.parameters(), lr=1e-3)\n",
    "loss_fn = nussl.ml.train.loss.L1Loss()"
   ]
  },
  {
   "cell_type": "code",
   "execution_count": 4,
   "id": "eec90aea-5d64-4bdd-b522-455d3d8fea86",
   "metadata": {
    "tags": []
   },
   "outputs": [
    {
     "data": {
      "text/plain": [
       "SeparationModel(\n",
       "  (layers): ModuleDict(\n",
       "    (model): MaskInference(\n",
       "      (amplitude_to_db): AmplitudeToDB()\n",
       "      (input_normalization): BatchNorm(\n",
       "        (batch_norm): BatchNorm1d(257, eps=1e-05, momentum=0.1, affine=True, track_running_stats=True)\n",
       "      )\n",
       "      (recurrent_stack): RecurrentStack(\n",
       "        (rnn): LSTM(257, 50, batch_first=True, bidirectional=True)\n",
       "      )\n",
       "      (embedding): Embedding(\n",
       "        (linear): Linear(in_features=100, out_features=257, bias=True)\n",
       "      )\n",
       "    )\n",
       "    (mask): Alias()\n",
       "    (estimates): Alias()\n",
       "  )\n",
       ")\n",
       "Number of parameters: 150071"
      ]
     },
     "execution_count": 4,
     "metadata": {},
     "output_type": "execute_result"
    }
   ],
   "source": [
    "model"
   ]
  },
  {
   "cell_type": "code",
   "execution_count": 152,
   "id": "f2aa5524-fd21-428e-8eb0-2988788e476e",
   "metadata": {
    "tags": []
   },
   "outputs": [],
   "source": [
    "def train_step(engine, batch):\n",
    "    optimizer.zero_grad()\n",
    "    output = model(batch) # forward pass\n",
    "    loss = loss_fn(\n",
    "        output['estimates'],\n",
    "        batch['source_magnitudes']\n",
    "    )\n",
    "    \n",
    "    loss.backward() # backwards + gradient step\n",
    "    optimizer.step()\n",
    "    \n",
    "    loss_vals = {\n",
    "        'L1Loss': loss.item(),\n",
    "        'loss': loss.item()\n",
    "    }\n",
    "    \n",
    "    return loss_vals\n",
    "\n",
    "def val_step(engine, batch):\n",
    "    with torch.no_grad():\n",
    "        output = model(batch) # forward pass\n",
    "    loss = loss_fn(\n",
    "        output['estimates'],\n",
    "        batch['source_magnitudes']\n",
    "    )    \n",
    "    loss_vals = {\n",
    "        'L1Loss': loss.item(), \n",
    "        'loss': loss.item()\n",
    "    }\n",
    "    return loss_vals"
   ]
  },
  {
   "cell_type": "code",
   "execution_count": 163,
   "id": "8a401134-937e-466c-9dff-378e2bef8ea4",
   "metadata": {
    "tags": []
   },
   "outputs": [],
   "source": [
    "# Create the engines\n",
    "trainer, validator = nussl.ml.train.create_train_and_validation_engines(\n",
    "    train_step, val_step, device=DEVICE\n",
    ")\n",
    "\n",
    "# We'll save the output relative to this notebook.\n",
    "output_folder = Path('outputs').absolute()\n",
    "\n",
    "# Adding handlers from nussl that print out details about model training\n",
    "# run the validation step, and save the models.\n",
    "nussl.ml.train.add_stdout_handler(trainer, validator)\n",
    "nussl.ml.train.add_validate_and_checkpoint(output_folder, model, \n",
    "    optimizer, train_data, trainer, val_dataloader, validator)"
   ]
  },
  {
   "cell_type": "code",
   "execution_count": 164,
   "id": "35d61ced-eb66-416c-bcbf-b4f1396c142c",
   "metadata": {
    "tags": []
   },
   "outputs": [],
   "source": [
    "# trainer.run(\n",
    "#     train_dataloader, \n",
    "#     epoch_length=10, \n",
    "#     max_epochs=1\n",
    "# )"
   ]
  },
  {
   "cell_type": "code",
   "execution_count": 165,
   "id": "494a9e45-ac44-42b4-930d-a42c53ee7615",
   "metadata": {
    "tags": []
   },
   "outputs": [
    {
     "name": "stderr",
     "output_type": "stream",
     "text": [
      "/SFS/user/ry/stonekev/miniconda3/envs/audio/lib/python3.10/site-packages/nussl/separation/base/separation_base.py:73: UserWarning: input_audio_signal has no data!\n",
      "  warnings.warn('input_audio_signal has no data!')\n",
      "/SFS/user/ry/stonekev/miniconda3/envs/audio/lib/python3.10/site-packages/nussl/core/audio_signal.py:455: UserWarning: Initializing STFT with data that is non-complex. This might lead to weird results!\n",
      "  warnings.warn('Initializing STFT with data that is non-complex. '\n"
     ]
    }
   ],
   "source": [
    "separator = nussl.separation.deep.DeepMaskEstimation(\n",
    "    nussl.AudioSignal(), model_path='checkpoints/best.model.pth',\n",
    "    device=DEVICE,\n",
    ")"
   ]
  },
  {
   "cell_type": "code",
   "execution_count": 167,
   "id": "ba0a60d2-9f2a-4ba2-832d-75f49c9f7c17",
   "metadata": {
    "tags": []
   },
   "outputs": [],
   "source": [
    "test_folder = \"~/.nussl/tutorial/test/\"\n",
    "test_data = data.mixer(stft_params, transform=None, \n",
    "    fg_path=test_folder, num_mixtures=MAX_MIXTURES, coherent_prob=1.0)\n",
    "item = test_data[0]\n",
    "\n",
    "separator.audio_signal = item['mix']\n",
    "estimates = separator()\n",
    "# Since our model only returns one source, let's tack on the\n",
    "# residual (which should be accompaniment)\n",
    "estimates.append(item['mix'] - estimates[0])\n",
    "\n",
    "#viz.show_sources(estimates)"
   ]
  },
  {
   "cell_type": "code",
   "execution_count": 168,
   "id": "b2ec13a9-1d5a-46d5-9b14-3fbc0863cfb7",
   "metadata": {
    "tags": []
   },
   "outputs": [],
   "source": [
    "import json\n",
    "\n",
    "tfm = nussl_tfm.Compose([\n",
    "    nussl_tfm.SumSources([['bass', 'drums', 'other']]),\n",
    "])\n",
    "test_dataset = nussl.datasets.MUSDB18(subsets=['test'], transform=tfm)\n",
    "\n",
    "# Just do 5 items for speed. Change to 50 for actual experiment.\n",
    "for i in range(5):\n",
    "    item = test_dataset[i]\n",
    "    separator.audio_signal = item['mix']\n",
    "    estimates = separator()\n",
    "\n",
    "    source_keys = list(item['sources'].keys())\n",
    "    estimates = {\n",
    "        'vocals': estimates[0],\n",
    "        'bass+drums+other': item['mix'] - estimates[0]\n",
    "    }\n",
    "\n",
    "    sources = [item['sources'][k] for k in source_keys]\n",
    "    estimates = [estimates[k] for k in source_keys]\n",
    "\n",
    "    evaluator = nussl.evaluation.BSSEvalScale(\n",
    "        sources, estimates, source_labels=source_keys\n",
    "    )\n",
    "    scores = evaluator.evaluate()\n",
    "    output_folder = Path(output_folder).absolute()\n",
    "    output_folder.mkdir(exist_ok=True)\n",
    "    output_file = output_folder / sources[0].file_name.replace('wav', 'json')\n",
    "    with open(output_file, 'w') as f:\n",
    "        json.dump(scores, f, indent=4)"
   ]
  },
  {
   "cell_type": "code",
   "execution_count": 192,
   "id": "694e6553-2fe8-41d8-9bed-151d706e5314",
   "metadata": {
    "tags": []
   },
   "outputs": [],
   "source": [
    "import glob\n",
    "import numpy as np\n",
    "\n",
    "json_files = glob.glob(f'outputs/*.json')\n",
    "df = nussl.evaluation.aggregate_score_files(\n",
    "    json_files, aggregator=np.nanmedian)\n",
    "#nussl.evaluation.associate_metrics(separator.model, df, test_dataset)"
   ]
  },
  {
   "cell_type": "code",
   "execution_count": 193,
   "id": "6511be10-c81e-4d2a-86a7-fdadcb40fff5",
   "metadata": {
    "tags": []
   },
   "outputs": [
    {
     "data": {
      "text/html": [
       "<div>\n",
       "<style scoped>\n",
       "    .dataframe tbody tr th:only-of-type {\n",
       "        vertical-align: middle;\n",
       "    }\n",
       "\n",
       "    .dataframe tbody tr th {\n",
       "        vertical-align: top;\n",
       "    }\n",
       "\n",
       "    .dataframe thead th {\n",
       "        text-align: right;\n",
       "    }\n",
       "</style>\n",
       "<table border=\"1\" class=\"dataframe\">\n",
       "  <thead>\n",
       "    <tr style=\"text-align: right;\">\n",
       "      <th></th>\n",
       "      <th>source</th>\n",
       "      <th>file</th>\n",
       "      <th>SI-SDR</th>\n",
       "      <th>SI-SIR</th>\n",
       "      <th>SI-SAR</th>\n",
       "      <th>SD-SDR</th>\n",
       "      <th>SNR</th>\n",
       "      <th>SRR</th>\n",
       "      <th>SI-SDRi</th>\n",
       "      <th>SD-SDRi</th>\n",
       "      <th>SNRi</th>\n",
       "      <th>MIX-SI-SDR</th>\n",
       "      <th>MIX-SD-SDR</th>\n",
       "      <th>MIX-SNR</th>\n",
       "    </tr>\n",
       "  </thead>\n",
       "  <tbody>\n",
       "    <tr>\n",
       "      <th>0</th>\n",
       "      <td>vocals</td>\n",
       "      <td>Al James - Schoolboy Facination_vocals.json</td>\n",
       "      <td>-0.784535</td>\n",
       "      <td>-0.598966</td>\n",
       "      <td>13.001692</td>\n",
       "      <td>-3.031669</td>\n",
       "      <td>2.547792</td>\n",
       "      <td>0.905951</td>\n",
       "      <td>0.303550</td>\n",
       "      <td>-1.943431</td>\n",
       "      <td>3.687373</td>\n",
       "      <td>-1.088084</td>\n",
       "      <td>-1.088238</td>\n",
       "      <td>-1.139581</td>\n",
       "    </tr>\n",
       "    <tr>\n",
       "      <th>1</th>\n",
       "      <td>vocals</td>\n",
       "      <td>Angels In Amplifiers - I'm Alright_vocals.json</td>\n",
       "      <td>-1.787292</td>\n",
       "      <td>-1.642771</td>\n",
       "      <td>13.076481</td>\n",
       "      <td>-3.987777</td>\n",
       "      <td>2.021374</td>\n",
       "      <td>0.022919</td>\n",
       "      <td>0.411055</td>\n",
       "      <td>-1.789207</td>\n",
       "      <td>4.153718</td>\n",
       "      <td>-2.198346</td>\n",
       "      <td>-2.198570</td>\n",
       "      <td>-2.132344</td>\n",
       "    </tr>\n",
       "    <tr>\n",
       "      <th>2</th>\n",
       "      <td>vocals</td>\n",
       "      <td>BKS - Bulldozer_vocals.json</td>\n",
       "      <td>-5.427542</td>\n",
       "      <td>-5.334472</td>\n",
       "      <td>11.316941</td>\n",
       "      <td>-6.423873</td>\n",
       "      <td>-0.629328</td>\n",
       "      <td>0.459113</td>\n",
       "      <td>0.568335</td>\n",
       "      <td>-0.427780</td>\n",
       "      <td>5.434137</td>\n",
       "      <td>-5.995878</td>\n",
       "      <td>-5.996093</td>\n",
       "      <td>-6.063465</td>\n",
       "    </tr>\n",
       "    <tr>\n",
       "      <th>3</th>\n",
       "      <td>vocals</td>\n",
       "      <td>Arise - Run Run Run_vocals.json</td>\n",
       "      <td>-8.229635</td>\n",
       "      <td>-8.162679</td>\n",
       "      <td>9.938586</td>\n",
       "      <td>-9.085124</td>\n",
       "      <td>-2.230849</td>\n",
       "      <td>-1.594217</td>\n",
       "      <td>0.094274</td>\n",
       "      <td>-0.761121</td>\n",
       "      <td>6.175299</td>\n",
       "      <td>-8.323910</td>\n",
       "      <td>-8.324004</td>\n",
       "      <td>-8.406149</td>\n",
       "    </tr>\n",
       "    <tr>\n",
       "      <th>4</th>\n",
       "      <td>vocals</td>\n",
       "      <td>AM Contra - Heart Peripheral_vocals.json</td>\n",
       "      <td>-3.116621</td>\n",
       "      <td>-3.043049</td>\n",
       "      <td>14.635663</td>\n",
       "      <td>-4.313564</td>\n",
       "      <td>0.819025</td>\n",
       "      <td>1.880799</td>\n",
       "      <td>0.685322</td>\n",
       "      <td>-0.511602</td>\n",
       "      <td>4.596596</td>\n",
       "      <td>-3.801943</td>\n",
       "      <td>-3.801961</td>\n",
       "      <td>-3.777570</td>\n",
       "    </tr>\n",
       "    <tr>\n",
       "      <th>5</th>\n",
       "      <td>bass+drums+other</td>\n",
       "      <td>Al James - Schoolboy Facination_vocals.json</td>\n",
       "      <td>1.404598</td>\n",
       "      <td>1.662050</td>\n",
       "      <td>13.808934</td>\n",
       "      <td>-2.307010</td>\n",
       "      <td>3.663484</td>\n",
       "      <td>0.100976</td>\n",
       "      <td>0.224480</td>\n",
       "      <td>-3.486975</td>\n",
       "      <td>2.523903</td>\n",
       "      <td>1.180118</td>\n",
       "      <td>1.179965</td>\n",
       "      <td>1.139581</td>\n",
       "    </tr>\n",
       "    <tr>\n",
       "      <th>6</th>\n",
       "      <td>bass+drums+other</td>\n",
       "      <td>Angels In Amplifiers - I'm Alright_vocals.json</td>\n",
       "      <td>2.391235</td>\n",
       "      <td>2.609235</td>\n",
       "      <td>15.493062</td>\n",
       "      <td>-1.530708</td>\n",
       "      <td>4.132972</td>\n",
       "      <td>0.731770</td>\n",
       "      <td>0.298231</td>\n",
       "      <td>-3.623489</td>\n",
       "      <td>2.000628</td>\n",
       "      <td>2.093005</td>\n",
       "      <td>2.092781</td>\n",
       "      <td>2.132344</td>\n",
       "    </tr>\n",
       "    <tr>\n",
       "      <th>7</th>\n",
       "      <td>bass+drums+other</td>\n",
       "      <td>BKS - Bulldozer_vocals.json</td>\n",
       "      <td>6.372875</td>\n",
       "      <td>6.723571</td>\n",
       "      <td>17.476411</td>\n",
       "      <td>-0.169282</td>\n",
       "      <td>5.403282</td>\n",
       "      <td>0.920490</td>\n",
       "      <td>0.291079</td>\n",
       "      <td>-6.250863</td>\n",
       "      <td>-0.660183</td>\n",
       "      <td>6.081796</td>\n",
       "      <td>6.081580</td>\n",
       "      <td>6.063465</td>\n",
       "    </tr>\n",
       "    <tr>\n",
       "      <th>8</th>\n",
       "      <td>bass+drums+other</td>\n",
       "      <td>Arise - Run Run Run_vocals.json</td>\n",
       "      <td>8.279771</td>\n",
       "      <td>8.582419</td>\n",
       "      <td>19.999837</td>\n",
       "      <td>1.098618</td>\n",
       "      <td>6.166107</td>\n",
       "      <td>2.025606</td>\n",
       "      <td>-0.139036</td>\n",
       "      <td>-7.320096</td>\n",
       "      <td>-2.240042</td>\n",
       "      <td>8.418808</td>\n",
       "      <td>8.418714</td>\n",
       "      <td>8.406149</td>\n",
       "    </tr>\n",
       "    <tr>\n",
       "      <th>9</th>\n",
       "      <td>bass+drums+other</td>\n",
       "      <td>AM Contra - Heart Peripheral_vocals.json</td>\n",
       "      <td>4.402479</td>\n",
       "      <td>4.625504</td>\n",
       "      <td>17.412950</td>\n",
       "      <td>-1.710477</td>\n",
       "      <td>4.557014</td>\n",
       "      <td>-0.486884</td>\n",
       "      <td>0.634297</td>\n",
       "      <td>-5.478641</td>\n",
       "      <td>0.779443</td>\n",
       "      <td>3.768182</td>\n",
       "      <td>3.768164</td>\n",
       "      <td>3.777570</td>\n",
       "    </tr>\n",
       "  </tbody>\n",
       "</table>\n",
       "</div>"
      ],
      "text/plain": [
       "             source                                            file    SI-SDR   \n",
       "0            vocals     Al James - Schoolboy Facination_vocals.json -0.784535  \\\n",
       "1            vocals  Angels In Amplifiers - I'm Alright_vocals.json -1.787292   \n",
       "2            vocals                     BKS - Bulldozer_vocals.json -5.427542   \n",
       "3            vocals                 Arise - Run Run Run_vocals.json -8.229635   \n",
       "4            vocals        AM Contra - Heart Peripheral_vocals.json -3.116621   \n",
       "5  bass+drums+other     Al James - Schoolboy Facination_vocals.json  1.404598   \n",
       "6  bass+drums+other  Angels In Amplifiers - I'm Alright_vocals.json  2.391235   \n",
       "7  bass+drums+other                     BKS - Bulldozer_vocals.json  6.372875   \n",
       "8  bass+drums+other                 Arise - Run Run Run_vocals.json  8.279771   \n",
       "9  bass+drums+other        AM Contra - Heart Peripheral_vocals.json  4.402479   \n",
       "\n",
       "     SI-SIR     SI-SAR    SD-SDR       SNR       SRR   SI-SDRi   SD-SDRi   \n",
       "0 -0.598966  13.001692 -3.031669  2.547792  0.905951  0.303550 -1.943431  \\\n",
       "1 -1.642771  13.076481 -3.987777  2.021374  0.022919  0.411055 -1.789207   \n",
       "2 -5.334472  11.316941 -6.423873 -0.629328  0.459113  0.568335 -0.427780   \n",
       "3 -8.162679   9.938586 -9.085124 -2.230849 -1.594217  0.094274 -0.761121   \n",
       "4 -3.043049  14.635663 -4.313564  0.819025  1.880799  0.685322 -0.511602   \n",
       "5  1.662050  13.808934 -2.307010  3.663484  0.100976  0.224480 -3.486975   \n",
       "6  2.609235  15.493062 -1.530708  4.132972  0.731770  0.298231 -3.623489   \n",
       "7  6.723571  17.476411 -0.169282  5.403282  0.920490  0.291079 -6.250863   \n",
       "8  8.582419  19.999837  1.098618  6.166107  2.025606 -0.139036 -7.320096   \n",
       "9  4.625504  17.412950 -1.710477  4.557014 -0.486884  0.634297 -5.478641   \n",
       "\n",
       "       SNRi  MIX-SI-SDR  MIX-SD-SDR   MIX-SNR  \n",
       "0  3.687373   -1.088084   -1.088238 -1.139581  \n",
       "1  4.153718   -2.198346   -2.198570 -2.132344  \n",
       "2  5.434137   -5.995878   -5.996093 -6.063465  \n",
       "3  6.175299   -8.323910   -8.324004 -8.406149  \n",
       "4  4.596596   -3.801943   -3.801961 -3.777570  \n",
       "5  2.523903    1.180118    1.179965  1.139581  \n",
       "6  2.000628    2.093005    2.092781  2.132344  \n",
       "7 -0.660183    6.081796    6.081580  6.063465  \n",
       "8 -2.240042    8.418808    8.418714  8.406149  \n",
       "9  0.779443    3.768182    3.768164  3.777570  "
      ]
     },
     "execution_count": 193,
     "metadata": {},
     "output_type": "execute_result"
    }
   ],
   "source": [
    "df"
   ]
  },
  {
   "cell_type": "code",
   "execution_count": null,
   "id": "9512072f-de14-4b4e-bd3d-192f74c8d706",
   "metadata": {},
   "outputs": [],
   "source": []
  }
 ],
 "metadata": {
  "kernelspec": {
   "display_name": "Python 3 (ipykernel)",
   "language": "python",
   "name": "python3"
  },
  "language_info": {
   "codemirror_mode": {
    "name": "ipython",
    "version": 3
   },
   "file_extension": ".py",
   "mimetype": "text/x-python",
   "name": "python",
   "nbconvert_exporter": "python",
   "pygments_lexer": "ipython3",
   "version": "3.10.10"
  }
 },
 "nbformat": 4,
 "nbformat_minor": 5
}
